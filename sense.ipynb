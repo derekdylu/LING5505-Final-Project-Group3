{
 "cells": [
  {
   "cell_type": "code",
   "execution_count": 1,
   "id": "decent-diary",
   "metadata": {},
   "outputs": [],
   "source": [
    "#>cd Documents/NTU/2_Sophomore/2-2/R/Project/LING5505-Final-Project-Group3"
   ]
  },
  {
   "cell_type": "code",
   "execution_count": 1,
   "id": "spatial-saver",
   "metadata": {},
   "outputs": [
    {
     "name": "stdout",
     "output_type": "stream",
     "text": [
      "A copy of DistilTag model already exists. Use upgrade=True to overwrite\n",
      "A copy of cwn_grpah.pyobj already exists. Use upgrade=True to overwrite\n"
     ]
    }
   ],
   "source": [
    "import numpy as np\n",
    "import pandas as pd\n",
    "import gdown\n",
    "import os\n",
    "\n",
    "import torch\n",
    "import transformers\n",
    "\n",
    "import CwnSenseTagger\n",
    "CwnSenseTagger.download()\n",
    "\n",
    "import CwnGraph\n",
    "CwnGraph.download()\n",
    "\n",
    "from CwnGraph import CwnBase\n",
    "from ckiptagger import data_utils, construct_dictionary, WS, POS, NER\n",
    "\n",
    "#import DistilTag\n",
    "#DistilTag.download()"
   ]
  },
  {
   "cell_type": "code",
   "execution_count": 2,
   "id": "romantic-switch",
   "metadata": {},
   "outputs": [],
   "source": [
    "f = open(\"data_set/AST_100_1.txt\")\n",
    "AST_100_1 = f.read()"
   ]
  },
  {
   "cell_type": "code",
   "execution_count": 3,
   "id": "married-discovery",
   "metadata": {},
   "outputs": [
    {
     "name": "stderr",
     "output_type": "stream",
     "text": [
      "/Users/dereklu/opt/anaconda3/lib/python3.7/site-packages/tensorflow/python/keras/layers/legacy_rnn/rnn_cell_impl.py:909: UserWarning: `tf.nn.rnn_cell.LSTMCell` is deprecated and will be removed in a future version. This class is equivalent as `tf.keras.layers.LSTMCell`, and will be replaced by that in Tensorflow 2.0.\n",
      "  warnings.warn(\"`tf.nn.rnn_cell.LSTMCell` is deprecated and will be \"\n",
      "/Users/dereklu/opt/anaconda3/lib/python3.7/site-packages/tensorflow/python/keras/engine/base_layer_v1.py:1700: UserWarning: `layer.add_variable` is deprecated and will be removed in a future version. Please use `layer.add_weight` method instead.\n",
      "  warnings.warn('`layer.add_variable` is deprecated and '\n"
     ]
    }
   ],
   "source": [
    "ws = WS(os.path.abspath(os.path.join(os.getcwd(), os.path.pardir)) + '/data')\n",
    "pos = POS(os.path.abspath(os.path.join(os.getcwd(), os.path.pardir)) + '/data')\n",
    "ner = NER(os.path.abspath(os.path.join(os.getcwd(), os.path.pardir)) + '/data')"
   ]
  },
  {
   "cell_type": "code",
   "execution_count": 4,
   "id": "acknowledged-library",
   "metadata": {},
   "outputs": [],
   "source": [
    "sentence_list = [AST_100_1]\n",
    "\n",
    "word_sentence_list = ws(sentence_list)\n",
    "\n",
    "pos_sentence_list = pos(word_sentence_list)\n",
    "\n",
    "entity_sentence_list = ner(word_sentence_list, pos_sentence_list)"
   ]
  },
  {
   "cell_type": "markdown",
   "id": "fitted-elder",
   "metadata": {},
   "source": [
    "### 斷詞結果顯示"
   ]
  },
  {
   "cell_type": "code",
   "execution_count": 5,
   "id": "progressive-webmaster",
   "metadata": {},
   "outputs": [
    {
     "name": "stdout",
     "output_type": "stream",
     "text": [
      "\n",
      "'「寬」，是人生的廣度和豐富度；「深」，則是人生的厚度，寬與深看似人生的不同面向，但事實上，人生在寬與深的調和中，方能展現最強的生命韌度，擴展人生的價值。\n",
      "古典物理學大師──牛頓使世人見識到了知識的深度、人生的寬度。年輕時即以高度的科學天分嶄露他的不凡，後來更發表了「萬有引力」和「牛頓三大運動定律」使他獲皇家科學院的殊榮，但他在深入探討力學後，更進一步轉往光學方面的研究，甚至老年時還竭盡心力研究微積分理論。他的成就不僅深遠而且層面寬廣，關鍵就在於他行事的認真、踏實和專注。在人生各階段中，都有「階段性任務」，若專心一意地將心力投注於各階段上，那人生的「寬與深」便能兼顧。\n",
      "當然，欲發展人生的「寬」或「深」取決於自身能力和外在因素，並非都能像牛頓一般達到人生境界的最佳平衡點。史懷哲三十歲時便獲得了三種領域的博士學位，但在傾聽「內心的鼓聲」、理想的呼喚後，他決心習醫，並前往非洲落後地區行醫、助人。因為認清所求，他勇敢堅毅地在各領域中轉換，雖然因生命有限，而無法更深入地鑽研各領域的知識，但是，所學之廣豐富了他人文、科學各方面的才能，並且在實踐行醫理想的歲月中，他不也為自己的人生注入了更深的愛和關懷嗎？這，亦是另一層面的「深度」。\n",
      "人生，是追尋和實踐的過程。在追尋中，我們將遭遇各式的選擇，體驗各色的人生風貌──這便是人生的「寬度」；在實踐中，我們竭盡心力灌溉夢想、追求卓越，在一次又一次的試煉與考驗中錘煉自我，增強能力──這便是人生的「深度」。牛頓和史懷哲皆依循自己的內心，勇敢畫出屬於自己獨特的「生命輿圖」，深與廣不再侷限他們的人生意義，因為他們已用堅定的信念和努力地付出，使「深與廣的調合」綻放獨特的生命價值。'\n",
      "「(PARENTHESISCATEGORY)　寬(VH)　」(PARENTHESISCATEGORY)　，(COMMACATEGORY)　是(SHI)　人生(Na)　的(DE)　廣度(Na)　和(Caa)　豐富度(Na)　；(SEMICOLONCATEGORY)　「(PARENTHESISCATEGORY)　深(VH)　」(PARENTHESISCATEGORY)　，(COMMACATEGORY)　則(D)　是(SHI)　人生(Na)　的(DE)　厚度(Na)　，(COMMACATEGORY)　寬(VH)　與(Caa)　深(VH)　看似(VG)　人生(Na)　的(DE)　不同(VH)　面向(Na)　，(COMMACATEGORY)　但(Cbb)　事實(Na)　上(Ng)　，(COMMACATEGORY)　人生(Na)　在(P)　寬(VH)　與(Caa)　深(VH)　的(DE)　調和(VH)　中(Ng)　，(COMMACATEGORY)　方(D)　能(D)　展現(VC)　最(Dfa)　強(VH)　的(DE)　生命(Na)　韌度(Na)　，(COMMACATEGORY)　擴展(VC)　人生(Na)　的(DE)　價值(Na)　。\n",
      "(Nb)　古典(VH)　物理學(Na)　大師(Na)　──(DASHCATEGORY)　牛頓(Nb)　使(VL)　世人(Na)　見識到(VE)　了(Di)　知識(Na)　的(DE)　深度(Na)　、(PAUSECATEGORY)　人生(Na)　的(DE)　寬度(Na)　。(PERIODCATEGORY)　年輕(VH)　時(Ng)　即(D)　以(P)　高度(A)　的(DE)　科學(Na)　天分(Na)　嶄露(VC)　他(Nh)　的(DE)　不凡(VH)　，(COMMACATEGORY)　後來(Nd)　更(Dfa)　發表(VC)　了(Di)　「(PARENTHESISCATEGORY)　萬有引力(Na)　」(PARENTHESISCATEGORY)　和(Caa)　「(PARENTHESISCATEGORY)　牛頓(Nb)　三(Neu)　大(VH)　運動(Na)　定律(Na)　」(PARENTHESISCATEGORY)　使(VL)　他(Nh)　獲(VJ)　皇家(Na)　科學院(Nc)　的(DE)　殊榮(Na)　，(COMMACATEGORY)　但(Cbb)　他(Nh)　在(P)　深入(VH)　探討(VE)　力學(Na)　後(Ng)　，(COMMACATEGORY)　更(Dfa)　進一步(D)　轉往(VCL)　光學(Na)　方面(Na)　的(DE)　研究(Na)　，(COMMACATEGORY)　甚至(D)　老年(Na)　時(Ng)　還(D)　竭盡(VJ)　心力(Na)　研究(VE)　微積分(Na)　理論(Na)　。(PERIODCATEGORY)　他(Nh)　的(DE)　成就(Na)　不僅(Cbb)　深遠(VH)　而且(Cbb)　層面(Na)　寬廣(VH)　，(COMMACATEGORY)　關鍵(Na)　就(D)　在於(VK)　他(Nh)　行事(VA)　的(DE)　認真(VH)　、(PAUSECATEGORY)　踏實(Nv)　和(Caa)　專注(VH)　。(PERIODCATEGORY)　在(P)　人生(Na)　各(Nes)　階段(Na)　中(Ng)　，(COMMACATEGORY)　都(D)　有(V_2)　「(PARENTHESISCATEGORY)　階段性(Na)　任務(Na)　」(PARENTHESISCATEGORY)　，(COMMACATEGORY)　若(Cbb)　專心一意(VH)　地(DE)　將(P)　心力(Na)　投注(VC)　於(P)　各(Nes)　階段(Na)　上(Ncd)　，(COMMACATEGORY)　那(Nep)　人生(Na)　的(DE)　「(PARENTHESISCATEGORY)　寬(VH)　與(Caa)　深(VH)　」(PARENTHESISCATEGORY)　便(D)　能(D)　兼顧(VC)　。\n",
      "(Na)　當然(D)　，(COMMACATEGORY)　欲(VK)　發展(VC)　人生(Na)　的(DE)　「(PARENTHESISCATEGORY)　寬(VH)　」(PARENTHESISCATEGORY)　或(Caa)　「(PARENTHESISCATEGORY)　深(VH)　」(PARENTHESISCATEGORY)　取決(VI)　於(P)　自身(Nh)　能力(Na)　和(Caa)　外在(Na)　因素(Na)　，(COMMACATEGORY)　並非(D)　都(D)　能(D)　像(P)　牛頓(Nb)　一般(D)　達到(VJ)　人生(Na)　境界(Na)　的(DE)　最佳(A)　平衡點(Na)　。(PERIODCATEGORY)　史懷哲(Nb)　三十(Neu)　歲(Nf)　時(Ng)　便(D)　獲得(VJ)　了(Di)　三(Neu)　種(Nf)　領域(Na)　的(DE)　博士(Na)　學位(Na)　，(COMMACATEGORY)　但(Cbb)　在(P)　傾聽(VC)　「(PARENTHESISCATEGORY)　內心(Na)　的(DE)　鼓聲(Na)　」(PARENTHESISCATEGORY)　、(PAUSECATEGORY)　理想(VH)　的(DE)　呼喚(Na)　後(Ng)　，(COMMACATEGORY)　他(Nh)　決心(VF)　習(VC)　醫(Na)　，(COMMACATEGORY)　並(Cbb)　前往(VCL)　非洲(Nc)　落後(VJ)　地區(Nc)　行醫(VA)　、(PAUSECATEGORY)　助人(VA)　。(PERIODCATEGORY)　因為(Cbb)　認清(VK)　所(D)　求(VC)　，(COMMACATEGORY)　他(Nh)　勇敢(VH)　堅毅(VH)　地(DE)　在(P)　各(Nes)　領域(Na)　中(Ng)　轉換(VC)　，(COMMACATEGORY)　雖然(Cbb)　因(Cbb)　生命(Na)　有限(VH)　，(COMMACATEGORY)　而(Cbb)　無法(D)　更(Dfa)　深入(VH)　地(DE)　鑽研(VC)　各(Nes)　領域(Na)　的(DE)　知識(Na)　，(COMMACATEGORY)　但是(Cbb)　，(COMMACATEGORY)　所(D)　學(VC)　之(DE)　廣(VH)　豐富(VHC)　了(Di)　他(Nh)　人文(Na)　、(PAUSECATEGORY)　科學(Na)　各(Nes)　方面(Na)　的(DE)　才能(Na)　，(COMMACATEGORY)　並且(Cbb)　在(P)　實踐(VC)　行醫(VA)　理想(VH)　的(DE)　歲月(Na)　中(Ng)　，(COMMACATEGORY)　他(Nh)　不(D)　也(D)　為(P)　自己(Nh)　的(DE)　人生(Na)　注入(VC)　了(Di)　更深(VH)　的(DE)　愛(Na)　和(Caa)　關懷(VJ)　嗎(T)　？(QUESTIONCATEGORY)　這(Nep)　，(COMMACATEGORY)　亦(D)　是(SHI)　另(Nes)　一(Neu)　層面(Na)　的(DE)　「(PARENTHESISCATEGORY)　深度(Na)　」(PARENTHESISCATEGORY)　。(PERIODCATEGORY)　\n",
      "(WHITESPACE)　人生(Na)　，(COMMACATEGORY)　是(SHI)　追尋(VC)　和(Caa)　實踐(VC)　的(DE)　過程(Na)　。(PERIODCATEGORY)　在(P)　追尋(VC)　中(Ng)　，(COMMACATEGORY)　我們(Nh)　將(D)　遭遇(VJ)　各(Nes)　式(Nf)　的(DE)　選擇(Na)　，(COMMACATEGORY)　體驗(VC)　各(Nes)　色(Nf)　的(DE)　人生(Na)　風貌(Na)　──(DASHCATEGORY)　這(Nep)　便(D)　是(SHI)　人生(Na)　的(DE)　「(PARENTHESISCATEGORY)　寬度(Na)　」(PARENTHESISCATEGORY)　；(SEMICOLONCATEGORY)　在(P)　實踐(VC)　中(Ng)　，(COMMACATEGORY)　我們(Nh)　竭盡(VJ)　心力(Na)　灌溉(VC)　夢想(Na)　、(PAUSECATEGORY)　追求(VC)　卓越(VH)　，(COMMACATEGORY)　在(P)　一(Neu)　次(Nf)　又(D)　一(Neu)　次(Nf)　的(DE)　試煉(VC)　與(Caa)　考驗(Na)　中(Ng)　錘煉(VC)　自我(Nh)　，(COMMACATEGORY)　增強(VHC)　能力(Na)　──(DASHCATEGORY)　這(Nep)　便(D)　是(SHI)　人生(Na)　的(DE)　「(PARENTHESISCATEGORY)　深度(Na)　」(PARENTHESISCATEGORY)　。(PERIODCATEGORY)　牛頓(Nb)　和(Caa)　史懷哲(Nb)　皆(D)　依循(VJ)　自己(Nh)　的(DE)　內心(Na)　，(COMMACATEGORY)　勇敢(VH)　畫出(VC)　屬於(VG)　自己(Nh)　獨特(VH)　的(DE)　「(PARENTHESISCATEGORY)　生命(Na)　輿圖(Na)　」(PARENTHESISCATEGORY)　，(COMMACATEGORY)　深(VH)　與(Caa)　廣(VH)　不再(D)　侷限(VC)　他們(Nh)　的(DE)　人生(Na)　意義(Na)　，(COMMACATEGORY)　因為(Cbb)　他們(Nh)　已(D)　用(P)　堅定(VHC)　的(DE)　信念(Na)　和(Caa)　努力(VH)　地(DE)　付出(VC)　，(COMMACATEGORY)　使(VL)　「(PARENTHESISCATEGORY)　深(VH)　與(Caa)　廣(VH)　的(DE)　調合(VC)　」(PARENTHESISCATEGORY)　綻放(VC)　獨特(VH)　的(DE)　生命(Na)　價值(Na)　。(PERIODCATEGORY)　\n",
      "(86, 88, 'PERSON', '牛頓')\n",
      "(152, 157, 'ORG', '皇家科學院')\n",
      "(321, 323, 'PERSON', '牛頓')\n",
      "(341, 344, 'DATE', '三十歲')\n",
      "(349, 350, 'CARDINAL', '三')\n",
      "(387, 389, 'LOC', '非洲')\n",
      "(624, 626, 'PERSON', '牛頓')\n"
     ]
    }
   ],
   "source": [
    "def print_word_pos_sentence (word_sentence, pos_sentence):\n",
    "    assert len(word_sentence) == len(pos_sentence)\n",
    "    for word, pos in zip(word_sentence, pos_sentence):\n",
    "        print(f\"{word}({pos})\", end=\"\\u3000\")\n",
    "    print()\n",
    "    return\n",
    "    \n",
    "for i, sentence in enumerate(sentence_list):\n",
    "    print()\n",
    "    print(f\"'{sentence}'\")\n",
    "    print_word_pos_sentence(word_sentence_list[i],  pos_sentence_list[i])\n",
    "    for entity in sorted(entity_sentence_list[i]):\n",
    "        print(entity)"
   ]
  },
  {
   "cell_type": "code",
   "execution_count": 6,
   "id": "advanced-darkness",
   "metadata": {},
   "outputs": [
    {
     "data": {
      "text/plain": [
       "0    PARENTHESISCATEGORY\n",
       "1                     VH\n",
       "2    PARENTHESISCATEGORY\n",
       "3          COMMACATEGORY\n",
       "4                    SHI\n",
       "dtype: object"
      ]
     },
     "metadata": {},
     "output_type": "display_data"
    }
   ],
   "source": [
    "pos_sentence_arr = pd.Series(np.concatenate(pos_sentence_list))\n",
    "display(pos_sentence_arr.head())"
   ]
  },
  {
   "cell_type": "markdown",
   "id": "close-yorkshire",
   "metadata": {},
   "source": [
    "### 詞性頻率分析"
   ]
  },
  {
   "cell_type": "code",
   "execution_count": 7,
   "id": "affiliated-transportation",
   "metadata": {},
   "outputs": [
    {
     "data": {
      "text/html": [
       "<div>\n",
       "<style scoped>\n",
       "    .dataframe tbody tr th:only-of-type {\n",
       "        vertical-align: middle;\n",
       "    }\n",
       "\n",
       "    .dataframe tbody tr th {\n",
       "        vertical-align: top;\n",
       "    }\n",
       "\n",
       "    .dataframe thead th {\n",
       "        text-align: right;\n",
       "    }\n",
       "</style>\n",
       "<table border=\"1\" class=\"dataframe\">\n",
       "  <thead>\n",
       "    <tr style=\"text-align: right;\">\n",
       "      <th></th>\n",
       "      <th>CKIP_POS</th>\n",
       "      <th>frequency</th>\n",
       "    </tr>\n",
       "  </thead>\n",
       "  <tbody>\n",
       "    <tr>\n",
       "      <th>9</th>\n",
       "      <td>Na</td>\n",
       "      <td>94</td>\n",
       "    </tr>\n",
       "    <tr>\n",
       "      <th>6</th>\n",
       "      <td>DE</td>\n",
       "      <td>43</td>\n",
       "    </tr>\n",
       "    <tr>\n",
       "      <th>35</th>\n",
       "      <td>VH</td>\n",
       "      <td>40</td>\n",
       "    </tr>\n",
       "    <tr>\n",
       "      <th>1</th>\n",
       "      <td>COMMACATEGORY</td>\n",
       "      <td>38</td>\n",
       "    </tr>\n",
       "    <tr>\n",
       "      <th>4</th>\n",
       "      <td>D</td>\n",
       "      <td>30</td>\n",
       "    </tr>\n",
       "  </tbody>\n",
       "</table>\n",
       "</div>"
      ],
      "text/plain": [
       "         CKIP_POS  frequency\n",
       "9              Na         94\n",
       "6              DE         43\n",
       "35             VH         40\n",
       "1   COMMACATEGORY         38\n",
       "4               D         30"
      ]
     },
     "execution_count": 7,
     "metadata": {},
     "output_type": "execute_result"
    }
   ],
   "source": [
    "pos_df = pos_sentence_arr.value_counts().sort_index().rename_axis('CKIP_POS').reset_index(name = 'frequency')\n",
    "pos_df_sorted = pos_df.sort_values(by = ['frequency'], ascending = False)\n",
    "pos_df_sorted.head()"
   ]
  },
  {
   "cell_type": "code",
   "execution_count": 8,
   "id": "technical-header",
   "metadata": {},
   "outputs": [
    {
     "data": {
      "text/plain": [
       "0       「\n",
       "1       寬\n",
       "2       」\n",
       "3       ，\n",
       "4       是\n",
       "       ..\n",
       "482    獨特\n",
       "483     的\n",
       "484    生命\n",
       "485    價值\n",
       "486     。\n",
       "Length: 487, dtype: object"
      ]
     },
     "execution_count": 8,
     "metadata": {},
     "output_type": "execute_result"
    }
   ],
   "source": [
    "word_sentence_arr = pd.Series(np.concatenate(word_sentence_list))\n",
    "word_sentence_arr"
   ]
  },
  {
   "cell_type": "markdown",
   "id": "hairy-admission",
   "metadata": {},
   "source": [
    "### 辭意搜尋與辭意計算"
   ]
  },
  {
   "cell_type": "code",
   "execution_count": 9,
   "id": "psychological-colorado",
   "metadata": {},
   "outputs": [],
   "source": [
    "cwn = CwnBase()\n",
    "    \n",
    "def all_sense_tree (word, verbal = False):\n",
    "    cnt = 0\n",
    "    for i in range(len(word)):\n",
    "        snese_tree = word[i].senses\n",
    "        cnt += len(word[i].senses)\n",
    "        if(verbal == True): print(snese_tree)\n",
    "    \n",
    "    if(verbal == True): print(\"total senses = \", cnt)\n",
    "    return cnt"
   ]
  },
  {
   "cell_type": "code",
   "execution_count": 10,
   "id": "intellectual-foundation",
   "metadata": {},
   "outputs": [
    {
     "name": "stdout",
     "output_type": "stream",
     "text": [
      "word:  生命\n",
      "[<CwnSense[06531701](生命): 生物生存的機能。>, <CwnSense[06531702](生命): 自然界中所有具有生命並有生長繁殖能力的物體。>, <CwnSense[06531703](生命): 比喻人的生活和經歷。>, <CwnSense[06531704](生命): 比喻前述對象重視、不可或缺的特定對象。>, <CwnSense[06531705](生命): 比喻人造物發揮功能的時段。>, <CwnSense[06531706](生命): 比喻生物從事前述事件的一段生命時間範圍。>, <CwnSense[06531707](生命): 比喻藝術作品靈活生動、貼近人類生活的特質。>, <CwnSense[06531708](生命): 比喻可使特定對象正面發展的機會。>]\n",
      "total senses =  8\n"
     ]
    },
    {
     "data": {
      "text/plain": [
       "8"
      ]
     },
     "execution_count": 10,
     "metadata": {},
     "output_type": "execute_result"
    }
   ],
   "source": [
    "_word = word_sentence_arr[484]\n",
    "word = cwn.find_lemma(\"^\" + _word + \"$\")\n",
    "print(\"word: \", _word)\n",
    "all_sense_tree(word, verbal = True)"
   ]
  },
  {
   "cell_type": "markdown",
   "id": "embedded-hacker",
   "metadata": {},
   "source": [
    "### 所有單詞詞性與辭意計算（辭意非零者）"
   ]
  },
  {
   "cell_type": "code",
   "execution_count": 11,
   "id": "native-edward",
   "metadata": {},
   "outputs": [
    {
     "data": {
      "text/html": [
       "<div>\n",
       "<style scoped>\n",
       "    .dataframe tbody tr th:only-of-type {\n",
       "        vertical-align: middle;\n",
       "    }\n",
       "\n",
       "    .dataframe tbody tr th {\n",
       "        vertical-align: top;\n",
       "    }\n",
       "\n",
       "    .dataframe thead th {\n",
       "        text-align: right;\n",
       "    }\n",
       "</style>\n",
       "<table border=\"1\" class=\"dataframe\">\n",
       "  <thead>\n",
       "    <tr style=\"text-align: right;\">\n",
       "      <th></th>\n",
       "      <th>Word</th>\n",
       "      <th>CKIP_POS</th>\n",
       "      <th>sense_cnt</th>\n",
       "    </tr>\n",
       "  </thead>\n",
       "  <tbody>\n",
       "    <tr>\n",
       "      <th>0</th>\n",
       "      <td>寬</td>\n",
       "      <td>VH</td>\n",
       "      <td>8</td>\n",
       "    </tr>\n",
       "    <tr>\n",
       "      <th>1</th>\n",
       "      <td>是</td>\n",
       "      <td>SHI</td>\n",
       "      <td>9</td>\n",
       "    </tr>\n",
       "    <tr>\n",
       "      <th>2</th>\n",
       "      <td>人生</td>\n",
       "      <td>Na</td>\n",
       "      <td>1</td>\n",
       "    </tr>\n",
       "    <tr>\n",
       "      <th>3</th>\n",
       "      <td>的</td>\n",
       "      <td>DE</td>\n",
       "      <td>16</td>\n",
       "    </tr>\n",
       "    <tr>\n",
       "      <th>5</th>\n",
       "      <td>和</td>\n",
       "      <td>Caa</td>\n",
       "      <td>16</td>\n",
       "    </tr>\n",
       "    <tr>\n",
       "      <th>...</th>\n",
       "      <td>...</td>\n",
       "      <td>...</td>\n",
       "      <td>...</td>\n",
       "    </tr>\n",
       "    <tr>\n",
       "      <th>393</th>\n",
       "      <td>的</td>\n",
       "      <td>DE</td>\n",
       "      <td>16</td>\n",
       "    </tr>\n",
       "    <tr>\n",
       "      <th>396</th>\n",
       "      <td>獨特</td>\n",
       "      <td>VH</td>\n",
       "      <td>1</td>\n",
       "    </tr>\n",
       "    <tr>\n",
       "      <th>397</th>\n",
       "      <td>的</td>\n",
       "      <td>DE</td>\n",
       "      <td>16</td>\n",
       "    </tr>\n",
       "    <tr>\n",
       "      <th>398</th>\n",
       "      <td>生命</td>\n",
       "      <td>Na</td>\n",
       "      <td>8</td>\n",
       "    </tr>\n",
       "    <tr>\n",
       "      <th>399</th>\n",
       "      <td>價值</td>\n",
       "      <td>Na</td>\n",
       "      <td>3</td>\n",
       "    </tr>\n",
       "  </tbody>\n",
       "</table>\n",
       "<p>316 rows × 3 columns</p>\n",
       "</div>"
      ],
      "text/plain": [
       "    Word CKIP_POS  sense_cnt\n",
       "0      寬       VH          8\n",
       "1      是      SHI          9\n",
       "2     人生       Na          1\n",
       "3      的       DE         16\n",
       "5      和      Caa         16\n",
       "..   ...      ...        ...\n",
       "393    的       DE         16\n",
       "396   獨特       VH          1\n",
       "397    的       DE         16\n",
       "398   生命       Na          8\n",
       "399   價值       Na          3\n",
       "\n",
       "[316 rows x 3 columns]"
      ]
     },
     "execution_count": 11,
     "metadata": {},
     "output_type": "execute_result"
    }
   ],
   "source": [
    "pun_set = {\"COLONCATEGORY\", \"COMMACATEGORY\", \"DASHCATEGORY\", \"ETCCATEGORY\", \"EXCLAMATIONCATEGORY\", \"PARENTHESISCATEGORY\",\n",
    "          \"PAUSECATEGORY\", \"PERIODCATEGORY\", \"QUESTIONCATEGORY\", \"SEMICOLONCATEGORY\", \"SPCHANGECATEGORY\"}\n",
    "\n",
    "senses_list = list()\n",
    "\n",
    "for i in range(len(word_sentence_arr)):\n",
    "    if(pos_sentence_arr[i] not in pun_set):\n",
    "        _word = word_sentence_arr[i]\n",
    "        word = cwn.find_lemma(\"^\" + _word + \"$\")\n",
    "        sense_cnt = all_sense_tree(word)\n",
    "        senses_list.append((word_sentence_arr[i], pos_sentence_arr[i], sense_cnt))\n",
    "        \n",
    "senses_df = pd.DataFrame(senses_list, columns = ['Word', 'CKIP_POS', 'sense_cnt'])\n",
    "senses_df_ = senses_df[senses_df.sense_cnt != 0]\n",
    "senses_df_"
   ]
  },
  {
   "cell_type": "markdown",
   "id": "urban-sailing",
   "metadata": {},
   "source": [
    "### 辭意為零者"
   ]
  },
  {
   "cell_type": "code",
   "execution_count": 12,
   "id": "second-pipeline",
   "metadata": {},
   "outputs": [
    {
     "data": {
      "text/html": [
       "<div>\n",
       "<style scoped>\n",
       "    .dataframe tbody tr th:only-of-type {\n",
       "        vertical-align: middle;\n",
       "    }\n",
       "\n",
       "    .dataframe tbody tr th {\n",
       "        vertical-align: top;\n",
       "    }\n",
       "\n",
       "    .dataframe thead th {\n",
       "        text-align: right;\n",
       "    }\n",
       "</style>\n",
       "<table border=\"1\" class=\"dataframe\">\n",
       "  <thead>\n",
       "    <tr style=\"text-align: right;\">\n",
       "      <th></th>\n",
       "      <th>Word</th>\n",
       "      <th>CKIP_POS</th>\n",
       "      <th>sense_cnt</th>\n",
       "    </tr>\n",
       "  </thead>\n",
       "  <tbody>\n",
       "    <tr>\n",
       "      <th>4</th>\n",
       "      <td>廣度</td>\n",
       "      <td>Na</td>\n",
       "      <td>0</td>\n",
       "    </tr>\n",
       "    <tr>\n",
       "      <th>6</th>\n",
       "      <td>豐富度</td>\n",
       "      <td>Na</td>\n",
       "      <td>0</td>\n",
       "    </tr>\n",
       "    <tr>\n",
       "      <th>12</th>\n",
       "      <td>厚度</td>\n",
       "      <td>Na</td>\n",
       "      <td>0</td>\n",
       "    </tr>\n",
       "    <tr>\n",
       "      <th>20</th>\n",
       "      <td>面向</td>\n",
       "      <td>Na</td>\n",
       "      <td>0</td>\n",
       "    </tr>\n",
       "    <tr>\n",
       "      <th>30</th>\n",
       "      <td>調和</td>\n",
       "      <td>VH</td>\n",
       "      <td>0</td>\n",
       "    </tr>\n",
       "    <tr>\n",
       "      <th>...</th>\n",
       "      <td>...</td>\n",
       "      <td>...</td>\n",
       "      <td>...</td>\n",
       "    </tr>\n",
       "    <tr>\n",
       "      <th>368</th>\n",
       "      <td>輿圖</td>\n",
       "      <td>Na</td>\n",
       "      <td>0</td>\n",
       "    </tr>\n",
       "    <tr>\n",
       "      <th>382</th>\n",
       "      <td>堅定</td>\n",
       "      <td>VHC</td>\n",
       "      <td>0</td>\n",
       "    </tr>\n",
       "    <tr>\n",
       "      <th>384</th>\n",
       "      <td>信念</td>\n",
       "      <td>Na</td>\n",
       "      <td>0</td>\n",
       "    </tr>\n",
       "    <tr>\n",
       "      <th>394</th>\n",
       "      <td>調合</td>\n",
       "      <td>VC</td>\n",
       "      <td>0</td>\n",
       "    </tr>\n",
       "    <tr>\n",
       "      <th>395</th>\n",
       "      <td>綻放</td>\n",
       "      <td>VC</td>\n",
       "      <td>0</td>\n",
       "    </tr>\n",
       "  </tbody>\n",
       "</table>\n",
       "<p>84 rows × 3 columns</p>\n",
       "</div>"
      ],
      "text/plain": [
       "    Word CKIP_POS  sense_cnt\n",
       "4     廣度       Na          0\n",
       "6    豐富度       Na          0\n",
       "12    厚度       Na          0\n",
       "20    面向       Na          0\n",
       "30    調和       VH          0\n",
       "..   ...      ...        ...\n",
       "368   輿圖       Na          0\n",
       "382   堅定      VHC          0\n",
       "384   信念       Na          0\n",
       "394   調合       VC          0\n",
       "395   綻放       VC          0\n",
       "\n",
       "[84 rows x 3 columns]"
      ]
     },
     "execution_count": 12,
     "metadata": {},
     "output_type": "execute_result"
    }
   ],
   "source": [
    "senses_df_0 = senses_df[senses_df.sense_cnt == 0]\n",
    "senses_df_0"
   ]
  },
  {
   "cell_type": "markdown",
   "id": "excited-uncertainty",
   "metadata": {},
   "source": [
    "### 辭意非零者平均辭意"
   ]
  },
  {
   "cell_type": "code",
   "execution_count": 13,
   "id": "helpful-tumor",
   "metadata": {},
   "outputs": [
    {
     "data": {
      "text/plain": [
       "7.901898734177215"
      ]
     },
     "execution_count": 13,
     "metadata": {},
     "output_type": "execute_result"
    }
   ],
   "source": [
    "# count average senses\n",
    "senses_df_['sense_cnt'].mean()"
   ]
  },
  {
   "cell_type": "markdown",
   "id": "cellular-intake",
   "metadata": {},
   "source": [
    "### 扣除詞性為DE與Nh者單詞出現頻率"
   ]
  },
  {
   "cell_type": "code",
   "execution_count": 14,
   "id": "frank-matrix",
   "metadata": {},
   "outputs": [
    {
     "data": {
      "text/html": [
       "<div>\n",
       "<style scoped>\n",
       "    .dataframe tbody tr th:only-of-type {\n",
       "        vertical-align: middle;\n",
       "    }\n",
       "\n",
       "    .dataframe tbody tr th {\n",
       "        vertical-align: top;\n",
       "    }\n",
       "\n",
       "    .dataframe thead th {\n",
       "        text-align: right;\n",
       "    }\n",
       "</style>\n",
       "<table border=\"1\" class=\"dataframe\">\n",
       "  <thead>\n",
       "    <tr style=\"text-align: right;\">\n",
       "      <th></th>\n",
       "      <th></th>\n",
       "      <th></th>\n",
       "      <th>0</th>\n",
       "    </tr>\n",
       "    <tr>\n",
       "      <th>Word</th>\n",
       "      <th>CKIP_POS</th>\n",
       "      <th>sense_cnt</th>\n",
       "      <th></th>\n",
       "    </tr>\n",
       "  </thead>\n",
       "  <tbody>\n",
       "    <tr>\n",
       "      <th>人生</th>\n",
       "      <th>Na</th>\n",
       "      <th>1</th>\n",
       "      <td>16</td>\n",
       "    </tr>\n",
       "    <tr>\n",
       "      <th>在</th>\n",
       "      <th>P</th>\n",
       "      <th>10</th>\n",
       "      <td>9</td>\n",
       "    </tr>\n",
       "    <tr>\n",
       "      <th>和</th>\n",
       "      <th>Caa</th>\n",
       "      <th>16</th>\n",
       "      <td>8</td>\n",
       "    </tr>\n",
       "    <tr>\n",
       "      <th>深</th>\n",
       "      <th>VH</th>\n",
       "      <th>17</th>\n",
       "      <td>7</td>\n",
       "    </tr>\n",
       "    <tr>\n",
       "      <th>各</th>\n",
       "      <th>Nes</th>\n",
       "      <th>2</th>\n",
       "      <td>7</td>\n",
       "    </tr>\n",
       "    <tr>\n",
       "      <th>...</th>\n",
       "      <th>...</th>\n",
       "      <th>...</th>\n",
       "      <td>...</td>\n",
       "    </tr>\n",
       "    <tr>\n",
       "      <th>大</th>\n",
       "      <th>VH</th>\n",
       "      <th>28</th>\n",
       "      <td>1</td>\n",
       "    </tr>\n",
       "    <tr>\n",
       "      <th>地區</th>\n",
       "      <th>Nc</th>\n",
       "      <th>1</th>\n",
       "      <td>1</td>\n",
       "    </tr>\n",
       "    <tr>\n",
       "      <th>在於</th>\n",
       "      <th>VK</th>\n",
       "      <th>1</th>\n",
       "      <td>1</td>\n",
       "    </tr>\n",
       "    <tr>\n",
       "      <th>因素</th>\n",
       "      <th>Na</th>\n",
       "      <th>1</th>\n",
       "      <td>1</td>\n",
       "    </tr>\n",
       "    <tr>\n",
       "      <th>高度</th>\n",
       "      <th>A</th>\n",
       "      <th>3</th>\n",
       "      <td>1</td>\n",
       "    </tr>\n",
       "  </tbody>\n",
       "</table>\n",
       "<p>143 rows × 1 columns</p>\n",
       "</div>"
      ],
      "text/plain": [
       "                          0\n",
       "Word CKIP_POS sense_cnt    \n",
       "人生   Na       1          16\n",
       "在    P        10          9\n",
       "和    Caa      16          8\n",
       "深    VH       17          7\n",
       "各    Nes      2           7\n",
       "...                      ..\n",
       "大    VH       28          1\n",
       "地區   Nc       1           1\n",
       "在於   VK       1           1\n",
       "因素   Na       1           1\n",
       "高度   A        3           1\n",
       "\n",
       "[143 rows x 1 columns]"
      ]
     },
     "execution_count": 14,
     "metadata": {},
     "output_type": "execute_result"
    }
   ],
   "source": [
    "senses_df_adj = senses_df_[senses_df_.CKIP_POS != \"DE\"]\n",
    "senses_df_adj = senses_df_adj[senses_df_adj.CKIP_POS != \"Nh\"]\n",
    "\n",
    "words_cnt_adj = pd.DataFrame(senses_df_adj.value_counts())\n",
    "words_cnt_adj"
   ]
  },
  {
   "cell_type": "code",
   "execution_count": null,
   "id": "beginning-square",
   "metadata": {},
   "outputs": [],
   "source": []
  }
 ],
 "metadata": {
  "kernelspec": {
   "display_name": "Python 3",
   "language": "python",
   "name": "python3"
  },
  "language_info": {
   "codemirror_mode": {
    "name": "ipython",
    "version": 3
   },
   "file_extension": ".py",
   "mimetype": "text/x-python",
   "name": "python",
   "nbconvert_exporter": "python",
   "pygments_lexer": "ipython3",
   "version": "3.7.10"
  }
 },
 "nbformat": 4,
 "nbformat_minor": 5
}
