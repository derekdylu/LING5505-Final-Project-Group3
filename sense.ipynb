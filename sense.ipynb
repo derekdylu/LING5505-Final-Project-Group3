{
 "cells": [
  {
   "cell_type": "raw",
   "metadata": {},
   "source": [
    "cd Documents/NTU/2_Sophomore/2-2/R/Project/LING5505-Final-Project-Group3"
   ]
  },
  {
   "cell_type": "code",
   "execution_count": 1,
   "metadata": {},
   "outputs": [],
   "source": [
    "import numpy as np\n",
    "import pandas as pd\n",
    "import gdown\n",
    "import os\n",
    "import re\n",
    "import seaborn as sns\n",
    "from matplotlib import pyplot as plt\n",
    "\n",
    "import torch\n",
    "import transformers\n",
    "\n",
    "import CwnSenseTagger\n",
    "#CwnSenseTagger.download()\n",
    "\n",
    "import CwnGraph\n",
    "#CwnGraph.download()\n",
    "\n",
    "from CwnGraph import CwnBase\n",
    "from ckiptagger import data_utils, construct_dictionary, WS, POS, NER\n",
    "\n",
    "#import DistilTag\n",
    "#DistilTag.download()"
   ]
  },
  {
   "cell_type": "code",
   "execution_count": 2,
   "metadata": {},
   "outputs": [
    {
     "name": "stderr",
     "output_type": "stream",
     "text": [
      "/Users/dereklu/opt/anaconda3/lib/python3.7/site-packages/tensorflow/python/keras/layers/legacy_rnn/rnn_cell_impl.py:909: UserWarning: `tf.nn.rnn_cell.LSTMCell` is deprecated and will be removed in a future version. This class is equivalent as `tf.keras.layers.LSTMCell`, and will be replaced by that in Tensorflow 2.0.\n",
      "  warnings.warn(\"`tf.nn.rnn_cell.LSTMCell` is deprecated and will be \"\n",
      "/Users/dereklu/opt/anaconda3/lib/python3.7/site-packages/tensorflow/python/keras/engine/base_layer_v1.py:1700: UserWarning: `layer.add_variable` is deprecated and will be removed in a future version. Please use `layer.add_weight` method instead.\n",
      "  warnings.warn('`layer.add_variable` is deprecated and '\n"
     ]
    }
   ],
   "source": [
    "ws = WS(os.path.abspath(os.path.join(os.getcwd(), os.path.pardir)) + '/data')\n",
    "pos = POS(os.path.abspath(os.path.join(os.getcwd(), os.path.pardir)) + '/data')\n",
    "ner = NER(os.path.abspath(os.path.join(os.getcwd(), os.path.pardir)) + '/data')"
   ]
  },
  {
   "cell_type": "markdown",
   "metadata": {},
   "source": [
    "### 讀取與整理資料集"
   ]
  },
  {
   "cell_type": "code",
   "execution_count": 3,
   "metadata": {},
   "outputs": [
    {
     "data": {
      "text/plain": [
       "'\\nprint(\"list length = \", len(all_f))\\nprint(all_f[2])\\nprint(len(all_f[2]))\\n'"
      ]
     },
     "execution_count": 3,
     "metadata": {},
     "output_type": "execute_result"
    }
   ],
   "source": [
    "all_f = []\n",
    "\n",
    "for file in os.listdir(\"data_set/\"):\n",
    "    if file.endswith(\".txt\"): all_f.append(file)\n",
    "\n",
    "'''\n",
    "print(\"list length = \", len(all_f))\n",
    "print(all_f[2])\n",
    "print(len(all_f[2]))\n",
    "'''"
   ]
  },
  {
   "cell_type": "code",
   "execution_count": 4,
   "metadata": {},
   "outputs": [
    {
     "data": {
      "text/html": [
       "<div>\n",
       "<style scoped>\n",
       "    .dataframe tbody tr th:only-of-type {\n",
       "        vertical-align: middle;\n",
       "    }\n",
       "\n",
       "    .dataframe tbody tr th {\n",
       "        vertical-align: top;\n",
       "    }\n",
       "\n",
       "    .dataframe thead th {\n",
       "        text-align: right;\n",
       "    }\n",
       "</style>\n",
       "<table border=\"1\" class=\"dataframe\">\n",
       "  <thead>\n",
       "    <tr style=\"text-align: right;\">\n",
       "      <th></th>\n",
       "      <th>type</th>\n",
       "      <th>year</th>\n",
       "      <th>sentence</th>\n",
       "    </tr>\n",
       "  </thead>\n",
       "  <tbody>\n",
       "    <tr>\n",
       "      <th>0</th>\n",
       "      <td>GSAT</td>\n",
       "      <td>105</td>\n",
       "      <td>這時，人也只能笑了。\\n蘇迪勒的狂風橫掃全臺，它破壞了，也創造了。臺北市的兩個郵筒在一夜肆虐...</td>\n",
       "    </tr>\n",
       "    <tr>\n",
       "      <th>1</th>\n",
       "      <td>GSAT</td>\n",
       "      <td>107</td>\n",
       "      <td>秋天總給人一種蕭瑟之感，但我卻對秋天情有獨鍾。\\n秋風颯颯，捲起了千堆落葉，也捲起了眾多遷客...</td>\n",
       "    </tr>\n",
       "    <tr>\n",
       "      <th>2</th>\n",
       "      <td>AST</td>\n",
       "      <td>101</td>\n",
       "      <td>它，蜿蜒過土壤的縫隙；它，寄身於大海的湛藍。它，摒持著儒者「原泉滾滾，不含晝夜。」的精神奔流...</td>\n",
       "    </tr>\n",
       "    <tr>\n",
       "      <th>3</th>\n",
       "      <td>GSAT</td>\n",
       "      <td>101</td>\n",
       "      <td>人生是一條長河，唯有堅硬的卵石才能激盪出美麗的水花，也唯有一份鍥而不舍的真情才能拓展生命的寬...</td>\n",
       "    </tr>\n",
       "    <tr>\n",
       "      <th>4</th>\n",
       "      <td>AST</td>\n",
       "      <td>103</td>\n",
       "      <td>最貧窮的人不是沒有錢財，而是沒有夢想。有了夢想就像是有了羅盤的航行；就像是有了心中的羅馬，只...</td>\n",
       "    </tr>\n",
       "    <tr>\n",
       "      <th>...</th>\n",
       "      <td>...</td>\n",
       "      <td>...</td>\n",
       "      <td>...</td>\n",
       "    </tr>\n",
       "    <tr>\n",
       "      <th>203</th>\n",
       "      <td>GSAT</td>\n",
       "      <td>110</td>\n",
       "      <td>如果我有一座新冰箱，那想必是清新可人，條理分明。因為冰藏在其間的，不僅是食物本身，更蘊含背後...</td>\n",
       "    </tr>\n",
       "    <tr>\n",
       "      <th>204</th>\n",
       "      <td>AST</td>\n",
       "      <td>101</td>\n",
       "      <td>人總免不了自己一個人的。有人怕寂寞，說：「寂寞，難耐。」他們怕孤獨，孤獨讓他們惶恐、害怕，感...</td>\n",
       "    </tr>\n",
       "    <tr>\n",
       "      <th>205</th>\n",
       "      <td>AST</td>\n",
       "      <td>103</td>\n",
       "      <td>我的祖父已經高齡九十二歲，他身邊的人正一個個離他而去。有一次和我聊天的時候，我從他口中委婉的...</td>\n",
       "    </tr>\n",
       "    <tr>\n",
       "      <th>206</th>\n",
       "      <td>AST</td>\n",
       "      <td>105</td>\n",
       "      <td>「順風可以航行，逆風可以飛行。」生命，是一連串的功課，其中之一，便是「舉重若輕」的學問。順境...</td>\n",
       "    </tr>\n",
       "    <tr>\n",
       "      <th>207</th>\n",
       "      <td>GSAT</td>\n",
       "      <td>102</td>\n",
       "      <td>音樂，飄揚於空中，那是聽覺的愉快；酸甜苦辣，撞擊味蕾，那是味覺的愉快；「沙鷗翔集，錦鱗游泳」...</td>\n",
       "    </tr>\n",
       "  </tbody>\n",
       "</table>\n",
       "<p>208 rows × 3 columns</p>\n",
       "</div>"
      ],
      "text/plain": [
       "     type year                                           sentence\n",
       "0    GSAT  105  這時，人也只能笑了。\\n蘇迪勒的狂風橫掃全臺，它破壞了，也創造了。臺北市的兩個郵筒在一夜肆虐...\n",
       "1    GSAT  107  秋天總給人一種蕭瑟之感，但我卻對秋天情有獨鍾。\\n秋風颯颯，捲起了千堆落葉，也捲起了眾多遷客...\n",
       "2     AST  101  它，蜿蜒過土壤的縫隙；它，寄身於大海的湛藍。它，摒持著儒者「原泉滾滾，不含晝夜。」的精神奔流...\n",
       "3    GSAT  101  人生是一條長河，唯有堅硬的卵石才能激盪出美麗的水花，也唯有一份鍥而不舍的真情才能拓展生命的寬...\n",
       "4     AST  103  最貧窮的人不是沒有錢財，而是沒有夢想。有了夢想就像是有了羅盤的航行；就像是有了心中的羅馬，只...\n",
       "..    ...  ...                                                ...\n",
       "203  GSAT  110  如果我有一座新冰箱，那想必是清新可人，條理分明。因為冰藏在其間的，不僅是食物本身，更蘊含背後...\n",
       "204   AST  101  人總免不了自己一個人的。有人怕寂寞，說：「寂寞，難耐。」他們怕孤獨，孤獨讓他們惶恐、害怕，感...\n",
       "205   AST  103  我的祖父已經高齡九十二歲，他身邊的人正一個個離他而去。有一次和我聊天的時候，我從他口中委婉的...\n",
       "206   AST  105  「順風可以航行，逆風可以飛行。」生命，是一連串的功課，其中之一，便是「舉重若輕」的學問。順境...\n",
       "207  GSAT  102  音樂，飄揚於空中，那是聽覺的愉快；酸甜苦辣，撞擊味蕾，那是味覺的愉快；「沙鷗翔集，錦鱗游泳」...\n",
       "\n",
       "[208 rows x 3 columns]"
      ]
     },
     "execution_count": 4,
     "metadata": {},
     "output_type": "execute_result"
    }
   ],
   "source": [
    "sentence_list = []\n",
    "sentence_list_type = []\n",
    "sentence_list_year = []\n",
    "\n",
    "for i in all_f:\n",
    "    f = open(\"data_set/\" + i)\n",
    "    sentence_list.append(f.read())\n",
    "    \n",
    "    if \"GSAT\" in i:\n",
    "        sentence_list_type.append(\"GSAT\")\n",
    "    else:\n",
    "        sentence_list_type.append(\"AST\")\n",
    "        \n",
    "    year = re.search(\"\\_(...|..)\\_\", i).group(1)\n",
    "    sentence_list_year.append(year)\n",
    "    \n",
    "all_list = pd.DataFrame({'type': sentence_list_type, 'year': sentence_list_year, 'sentence': sentence_list})\n",
    "all_list"
   ]
  },
  {
   "cell_type": "markdown",
   "metadata": {},
   "source": [
    "### ckiptagger"
   ]
  },
  {
   "cell_type": "code",
   "execution_count": 5,
   "metadata": {},
   "outputs": [],
   "source": [
    "word_sentence_list = ws(sentence_list)\n",
    "\n",
    "pos_sentence_list = pos(word_sentence_list)\n",
    "\n",
    "entity_sentence_list = ner(word_sentence_list, pos_sentence_list)"
   ]
  },
  {
   "cell_type": "markdown",
   "metadata": {},
   "source": [
    "### 斷詞結果顯示函式"
   ]
  },
  {
   "cell_type": "code",
   "execution_count": 6,
   "metadata": {},
   "outputs": [
    {
     "data": {
      "text/plain": [
       "'\\nfor i, sentence in enumerate(sentence_list):\\n    print(f\"\\'{sentence}\\'\")\\n    print_word_pos_sentence(word_sentence_list[i],  pos_sentence_list[i])\\n    for entity in sorted(entity_sentence_list[i]):\\n        print(entity)\\n'"
      ]
     },
     "execution_count": 6,
     "metadata": {},
     "output_type": "execute_result"
    }
   ],
   "source": [
    "def print_word_pos_sentence (word_sentence, pos_sentence):\n",
    "    assert len(word_sentence) == len(pos_sentence)\n",
    "    for word, pos in zip(word_sentence, pos_sentence):\n",
    "        print(f\"{word}({pos})\", end=\"\\u3000\")\n",
    "    print()\n",
    "    return\n",
    "\n",
    "\"\"\"\n",
    "for i, sentence in enumerate(sentence_list):\n",
    "    print(f\"'{sentence}'\")\n",
    "    print_word_pos_sentence(word_sentence_list[i],  pos_sentence_list[i])\n",
    "    for entity in sorted(entity_sentence_list[i]):\n",
    "        print(entity)\n",
    "\"\"\""
   ]
  },
  {
   "cell_type": "markdown",
   "metadata": {},
   "source": [
    "### 詞性頻率分析"
   ]
  },
  {
   "cell_type": "code",
   "execution_count": 7,
   "metadata": {},
   "outputs": [
    {
     "data": {
      "text/html": [
       "<div>\n",
       "<style scoped>\n",
       "    .dataframe tbody tr th:only-of-type {\n",
       "        vertical-align: middle;\n",
       "    }\n",
       "\n",
       "    .dataframe tbody tr th {\n",
       "        vertical-align: top;\n",
       "    }\n",
       "\n",
       "    .dataframe thead th {\n",
       "        text-align: right;\n",
       "    }\n",
       "</style>\n",
       "<table border=\"1\" class=\"dataframe\">\n",
       "  <thead>\n",
       "    <tr style=\"text-align: right;\">\n",
       "      <th></th>\n",
       "      <th>type</th>\n",
       "      <th>year</th>\n",
       "      <th>sentence</th>\n",
       "      <th>V_cnt</th>\n",
       "      <th>Na_cnt</th>\n",
       "      <th>V_to_Na_ratio</th>\n",
       "    </tr>\n",
       "  </thead>\n",
       "  <tbody>\n",
       "    <tr>\n",
       "      <th>0</th>\n",
       "      <td>GSAT</td>\n",
       "      <td>105</td>\n",
       "      <td>這時，人也只能笑了。\\n蘇迪勒的狂風橫掃全臺，它破壞了，也創造了。臺北市的兩個郵筒在一夜肆虐...</td>\n",
       "      <td>103</td>\n",
       "      <td>72</td>\n",
       "      <td>1.430556</td>\n",
       "    </tr>\n",
       "    <tr>\n",
       "      <th>1</th>\n",
       "      <td>GSAT</td>\n",
       "      <td>107</td>\n",
       "      <td>秋天總給人一種蕭瑟之感，但我卻對秋天情有獨鍾。\\n秋風颯颯，捲起了千堆落葉，也捲起了眾多遷客...</td>\n",
       "      <td>75</td>\n",
       "      <td>43</td>\n",
       "      <td>1.744186</td>\n",
       "    </tr>\n",
       "    <tr>\n",
       "      <th>2</th>\n",
       "      <td>AST</td>\n",
       "      <td>101</td>\n",
       "      <td>它，蜿蜒過土壤的縫隙；它，寄身於大海的湛藍。它，摒持著儒者「原泉滾滾，不含晝夜。」的精神奔流...</td>\n",
       "      <td>83</td>\n",
       "      <td>83</td>\n",
       "      <td>1.000000</td>\n",
       "    </tr>\n",
       "    <tr>\n",
       "      <th>3</th>\n",
       "      <td>GSAT</td>\n",
       "      <td>101</td>\n",
       "      <td>人生是一條長河，唯有堅硬的卵石才能激盪出美麗的水花，也唯有一份鍥而不舍的真情才能拓展生命的寬...</td>\n",
       "      <td>80</td>\n",
       "      <td>56</td>\n",
       "      <td>1.428571</td>\n",
       "    </tr>\n",
       "    <tr>\n",
       "      <th>4</th>\n",
       "      <td>AST</td>\n",
       "      <td>103</td>\n",
       "      <td>最貧窮的人不是沒有錢財，而是沒有夢想。有了夢想就像是有了羅盤的航行；就像是有了心中的羅馬，只...</td>\n",
       "      <td>99</td>\n",
       "      <td>62</td>\n",
       "      <td>1.596774</td>\n",
       "    </tr>\n",
       "    <tr>\n",
       "      <th>5</th>\n",
       "      <td>GSAT</td>\n",
       "      <td>98</td>\n",
       "      <td>現在的我正攀爬著，在一片看不見頂端的山壁努力往上爬，我的雙頰充滿了認真而辛勤的色彩，不斷地有...</td>\n",
       "      <td>116</td>\n",
       "      <td>55</td>\n",
       "      <td>2.109091</td>\n",
       "    </tr>\n",
       "    <tr>\n",
       "      <th>6</th>\n",
       "      <td>GSAT</td>\n",
       "      <td>103</td>\n",
       "      <td>人生如寄，歲月如梭。我們總盼望於人生茫茫大海中，拾得內心底處最渴望的晶瑩珍珠。陶淵明所喜愛的...</td>\n",
       "      <td>102</td>\n",
       "      <td>74</td>\n",
       "      <td>1.378378</td>\n",
       "    </tr>\n",
       "    <tr>\n",
       "      <th>7</th>\n",
       "      <td>GSAT</td>\n",
       "      <td>103</td>\n",
       "      <td>古人謂：「天若有情，天亦老」，何況為我們奉獻近乎半生的父母？然而課業的繁重，與自我的迷茫叛逆...</td>\n",
       "      <td>122</td>\n",
       "      <td>62</td>\n",
       "      <td>1.967742</td>\n",
       "    </tr>\n",
       "    <tr>\n",
       "      <th>8</th>\n",
       "      <td>GSAT</td>\n",
       "      <td>98</td>\n",
       "      <td>每個人都有夢，一個從小到大細心呵護的夢，也許很多人親眼看見達到里程碑，但有更多人的夢永遠都只...</td>\n",
       "      <td>70</td>\n",
       "      <td>67</td>\n",
       "      <td>1.044776</td>\n",
       "    </tr>\n",
       "    <tr>\n",
       "      <th>9</th>\n",
       "      <td>AST</td>\n",
       "      <td>103</td>\n",
       "      <td>「將手中的燈提高一些吧！才能照亮後面的人。」海倫‧凱勒曾有此言。圓自己一個夢想，是我提著手中...</td>\n",
       "      <td>123</td>\n",
       "      <td>103</td>\n",
       "      <td>1.194175</td>\n",
       "    </tr>\n",
       "  </tbody>\n",
       "</table>\n",
       "</div>"
      ],
      "text/plain": [
       "   type year                                           sentence  V_cnt  \\\n",
       "0  GSAT  105  這時，人也只能笑了。\\n蘇迪勒的狂風橫掃全臺，它破壞了，也創造了。臺北市的兩個郵筒在一夜肆虐...    103   \n",
       "1  GSAT  107  秋天總給人一種蕭瑟之感，但我卻對秋天情有獨鍾。\\n秋風颯颯，捲起了千堆落葉，也捲起了眾多遷客...     75   \n",
       "2   AST  101  它，蜿蜒過土壤的縫隙；它，寄身於大海的湛藍。它，摒持著儒者「原泉滾滾，不含晝夜。」的精神奔流...     83   \n",
       "3  GSAT  101  人生是一條長河，唯有堅硬的卵石才能激盪出美麗的水花，也唯有一份鍥而不舍的真情才能拓展生命的寬...     80   \n",
       "4   AST  103  最貧窮的人不是沒有錢財，而是沒有夢想。有了夢想就像是有了羅盤的航行；就像是有了心中的羅馬，只...     99   \n",
       "5  GSAT   98  現在的我正攀爬著，在一片看不見頂端的山壁努力往上爬，我的雙頰充滿了認真而辛勤的色彩，不斷地有...    116   \n",
       "6  GSAT  103  人生如寄，歲月如梭。我們總盼望於人生茫茫大海中，拾得內心底處最渴望的晶瑩珍珠。陶淵明所喜愛的...    102   \n",
       "7  GSAT  103  古人謂：「天若有情，天亦老」，何況為我們奉獻近乎半生的父母？然而課業的繁重，與自我的迷茫叛逆...    122   \n",
       "8  GSAT   98  每個人都有夢，一個從小到大細心呵護的夢，也許很多人親眼看見達到里程碑，但有更多人的夢永遠都只...     70   \n",
       "9   AST  103  「將手中的燈提高一些吧！才能照亮後面的人。」海倫‧凱勒曾有此言。圓自己一個夢想，是我提著手中...    123   \n",
       "\n",
       "   Na_cnt  V_to_Na_ratio  \n",
       "0      72       1.430556  \n",
       "1      43       1.744186  \n",
       "2      83       1.000000  \n",
       "3      56       1.428571  \n",
       "4      62       1.596774  \n",
       "5      55       2.109091  \n",
       "6      74       1.378378  \n",
       "7      62       1.967742  \n",
       "8      67       1.044776  \n",
       "9     103       1.194175  "
      ]
     },
     "execution_count": 7,
     "metadata": {},
     "output_type": "execute_result"
    }
   ],
   "source": [
    "Vlist = []\n",
    "Nalist = []\n",
    "\n",
    "for i in range(len(all_list)):\n",
    "    pos_df = pd.Series(pos_sentence_list[i]).value_counts().sort_index().rename_axis('CKIP_POS').reset_index(name = 'frequency')\n",
    "    \n",
    "    pos_cnt_V = pos_df[pos_df.CKIP_POS != 'V_2']\n",
    "    pos_cnt_V = pos_cnt_V.loc[pos_cnt_V['CKIP_POS'].str.contains('V')]\n",
    "    Vlist.append(pos_cnt_V.sum(numeric_only=True).sum())\n",
    "    \n",
    "    pos_cnt_N = pos_df.loc[pos_df['CKIP_POS'].str.contains('Na')]\n",
    "    Nalist.append(pos_cnt_N.sum(numeric_only=True).sum())\n",
    "\n",
    "all_list['V_cnt'] = Vlist\n",
    "all_list['Na_cnt'] = Nalist\n",
    "all_list['V_to_Na_ratio'] = all_list.V_cnt.div(Nalist)\n",
    "\n",
    "all_list.head(10)"
   ]
  },
  {
   "cell_type": "markdown",
   "metadata": {},
   "source": [
    "欄位依序表示為：指考或學測(type)、年份(year)、文章內容(sentence)、除V_2外所有動詞數量(V_cnt)、普通名詞數量(Na_cnt)、動詞對名詞的比例(V_to_Na_ratio)"
   ]
  },
  {
   "cell_type": "markdown",
   "metadata": {},
   "source": [
    "#### 動詞對名詞散佈圖"
   ]
  },
  {
   "cell_type": "code",
   "execution_count": 8,
   "metadata": {},
   "outputs": [
    {
     "data": {
      "text/plain": [
       "[Text(0, 0.5, 'Frequency of all kinds of verb words'),\n",
       " Text(0.5, 0, 'Frequency of Na words')]"
      ]
     },
     "execution_count": 8,
     "metadata": {},
     "output_type": "execute_result"
    },
    {
     "data": {
      "image/png": "[encoded data removed]",
      "text/plain": [
       "<Figure size 600x400 with 1 Axes>"
      ]
     },
     "metadata": {
      "needs_background": "light"
     },
     "output_type": "display_data"
    }
   ],
   "source": [
    "plt.rcParams[\"figure.dpi\"] = 100\n",
    "ax = sns.scatterplot(x=all_list['Na_cnt'], y=all_list['V_cnt'], hue=all_list['type'])\n",
    "plt.ylim(60, 200)\n",
    "plt.xlim(0, 140)\n",
    "ax.set_box_aspect(0.9)\n",
    "ax.set_title('Scatter Chart')\n",
    "ax.set(ylabel='Frequency of all kinds of verb words', xlabel='Frequency of Na words')"
   ]
  },
  {
   "cell_type": "markdown",
   "metadata": {},
   "source": [
    "由上圖可以稍微觀察到斜率大於一的趨勢，顯示在所有資料中動詞較普通名詞多的情況。"
   ]
  },
  {
   "cell_type": "markdown",
   "metadata": {},
   "source": [
    "#### 動詞對名詞比例Histogram"
   ]
  },
  {
   "cell_type": "code",
   "execution_count": 9,
   "metadata": {},
   "outputs": [
    {
     "name": "stdout",
     "output_type": "stream",
     "text": [
      "ratio mean =  1.5512316568733757\n"
     ]
    },
    {
     "data": {
      "image/png": "[encoded data removed]",
      "text/plain": [
       "<Figure size 600x400 with 1 Axes>"
      ]
     },
     "metadata": {
      "needs_background": "light"
     },
     "output_type": "display_data"
    }
   ],
   "source": [
    "plot = all_list.hist(column = 'V_to_Na_ratio')\n",
    "print(\"ratio mean = \",all_list.V_to_Na_ratio.mean())"
   ]
  },
  {
   "cell_type": "markdown",
   "metadata": {},
   "source": [
    "畫出Histogram後可以發現比例的平均值為1.551左右，眾數也位在相近的位置，整體分佈呈現bell-shape。"
   ]
  },
  {
   "cell_type": "markdown",
   "metadata": {},
   "source": [
    "### 單詞辭意計算函式"
   ]
  },
  {
   "cell_type": "code",
   "execution_count": 10,
   "metadata": {},
   "outputs": [],
   "source": [
    "cwn = CwnBase()\n",
    "    \n",
    "def all_sense_tree (word, verbal = False):\n",
    "    cnt = 0\n",
    "    for i in range(len(word)):\n",
    "        snese_tree = word[i].senses\n",
    "        cnt += len(word[i].senses)\n",
    "        if(verbal == True): print(snese_tree)\n",
    "    \n",
    "    if(verbal == True): print(\"total senses = \", cnt)\n",
    "    return cnt"
   ]
  },
  {
   "cell_type": "code",
   "execution_count": 77,
   "metadata": {},
   "outputs": [
    {
     "data": {
      "text/plain": [
       "'\\n_word = word_sentence_list[108][54]\\nword = cwn.find_lemma(\"^\" + _word + \"$\")\\nprint(\"word: \", _word)\\nall_sense_tree(word, verbal = True)\\n'"
      ]
     },
     "execution_count": 77,
     "metadata": {},
     "output_type": "execute_result"
    }
   ],
   "source": [
    "'''\n",
    "_word = word_sentence_list[108][54]\n",
    "word = cwn.find_lemma(\"^\" + _word + \"$\")\n",
    "print(\"word: \", _word)\n",
    "all_sense_tree(word, verbal = True)\n",
    "'''"
   ]
  },
  {
   "cell_type": "markdown",
   "metadata": {},
   "source": [
    "### 單詞辭意計算"
   ]
  },
  {
   "cell_type": "code",
   "execution_count": 17,
   "metadata": {},
   "outputs": [
    {
     "data": {
      "text/html": [
       "<div>\n",
       "<style scoped>\n",
       "    .dataframe tbody tr th:only-of-type {\n",
       "        vertical-align: middle;\n",
       "    }\n",
       "\n",
       "    .dataframe tbody tr th {\n",
       "        vertical-align: top;\n",
       "    }\n",
       "\n",
       "    .dataframe thead th {\n",
       "        text-align: right;\n",
       "    }\n",
       "</style>\n",
       "<table border=\"1\" class=\"dataframe\">\n",
       "  <thead>\n",
       "    <tr style=\"text-align: right;\">\n",
       "      <th></th>\n",
       "      <th>type</th>\n",
       "      <th>year</th>\n",
       "      <th>words_cnt</th>\n",
       "      <th>avg_sense_all</th>\n",
       "      <th>words_cnt_nonzero</th>\n",
       "      <th>avg_sense_nonzero</th>\n",
       "      <th>zero_sense_ratio</th>\n",
       "    </tr>\n",
       "  </thead>\n",
       "  <tbody>\n",
       "    <tr>\n",
       "      <th>0</th>\n",
       "      <td>GSAT</td>\n",
       "      <td>105</td>\n",
       "      <td>399</td>\n",
       "      <td>5.100251</td>\n",
       "      <td>300</td>\n",
       "      <td>6.783333</td>\n",
       "      <td>0.646552</td>\n",
       "    </tr>\n",
       "    <tr>\n",
       "      <th>1</th>\n",
       "      <td>GSAT</td>\n",
       "      <td>107</td>\n",
       "      <td>268</td>\n",
       "      <td>5.313433</td>\n",
       "      <td>193</td>\n",
       "      <td>7.378238</td>\n",
       "      <td>0.415948</td>\n",
       "    </tr>\n",
       "    <tr>\n",
       "      <th>2</th>\n",
       "      <td>AST</td>\n",
       "      <td>101</td>\n",
       "      <td>345</td>\n",
       "      <td>6.191304</td>\n",
       "      <td>242</td>\n",
       "      <td>8.826446</td>\n",
       "      <td>0.521552</td>\n",
       "    </tr>\n",
       "    <tr>\n",
       "      <th>3</th>\n",
       "      <td>GSAT</td>\n",
       "      <td>101</td>\n",
       "      <td>345</td>\n",
       "      <td>6.011594</td>\n",
       "      <td>264</td>\n",
       "      <td>7.856061</td>\n",
       "      <td>0.568966</td>\n",
       "    </tr>\n",
       "    <tr>\n",
       "      <th>4</th>\n",
       "      <td>AST</td>\n",
       "      <td>103</td>\n",
       "      <td>394</td>\n",
       "      <td>5.581218</td>\n",
       "      <td>305</td>\n",
       "      <td>7.209836</td>\n",
       "      <td>0.657328</td>\n",
       "    </tr>\n",
       "  </tbody>\n",
       "</table>\n",
       "</div>"
      ],
      "text/plain": [
       "   type year  words_cnt  avg_sense_all  words_cnt_nonzero  avg_sense_nonzero  \\\n",
       "0  GSAT  105        399       5.100251                300           6.783333   \n",
       "1  GSAT  107        268       5.313433                193           7.378238   \n",
       "2   AST  101        345       6.191304                242           8.826446   \n",
       "3  GSAT  101        345       6.011594                264           7.856061   \n",
       "4   AST  103        394       5.581218                305           7.209836   \n",
       "\n",
       "   zero_sense_ratio  \n",
       "0          0.646552  \n",
       "1          0.415948  \n",
       "2          0.521552  \n",
       "3          0.568966  \n",
       "4          0.657328  "
      ]
     },
     "metadata": {},
     "output_type": "display_data"
    }
   ],
   "source": [
    "pun_set = {\"COLONCATEGORY\", \"COMMACATEGORY\", \"DASHCATEGORY\", \"ETCCATEGORY\", \"EXCLAMATIONCATEGORY\", \"PARENTHESISCATEGORY\",\n",
    "          \"PAUSECATEGORY\", \"PERIODCATEGORY\", \"QUESTIONCATEGORY\", \"SEMICOLONCATEGORY\", \"SPCHANGECATEGORY\"}\n",
    "\n",
    "all_senses_list = list()\n",
    "all_senses_list_sum = list()\n",
    "\n",
    "for i in range(all_list.shape[0]):\n",
    "    senses_list = list()\n",
    "    arr = pd.Series(word_sentence_list[i])\n",
    "    ttl = 0\n",
    "    for j in range(len(arr)):\n",
    "        if(pos_sentence_list[i][j] not in pun_set):\n",
    "            _word = arr[j]\n",
    "            word = cwn.find_lemma(\"^\" + _word + \"$\")\n",
    "            sense_cnt = all_sense_tree(word)\n",
    "            senses_list.append((arr[j], pos_sentence_list[i][j], sense_cnt))\n",
    "            \n",
    "    tp = sentence_list_type[i]\n",
    "    year = sentence_list_year[i]\n",
    "    all_senses_list.append((tp, year, senses_list))\n",
    "    \n",
    "    tmp_df = pd.DataFrame(senses_list, columns = ['tagged_word', 'CKIP_POS', 'sense_cnt'])\n",
    "    words_cnt = tmp_df.shape[0]\n",
    "    tmp_df_ = tmp_df[tmp_df['sense_cnt'] != 0]\n",
    "    words_cnt_ = tmp_df_.shape[0]\n",
    "    \n",
    "    all_senses_list_sum.append((tp, year, words_cnt, tmp_df.sense_cnt.mean(), words_cnt_, tmp_df_.sense_cnt.mean()))\n",
    "\n",
    "all_senses_df = pd.DataFrame(all_senses_list, columns = ['type', 'year', 'tagged_words'])\n",
    "all_senses_df_sum = pd.DataFrame(all_senses_list_sum, columns = ['type', 'year', 'words_cnt', 'avg_sense_all', 'words_cnt_nonzero' ,'avg_sense_nonzero'])\n",
    "all_senses_df_sum['zero_sense_ratio'] = all_senses_df_sum.words_cnt_nonzero.div(words_cnt)\n",
    "\n",
    "display(all_senses_df_sum.head())"
   ]
  },
  {
   "cell_type": "code",
   "execution_count": 83,
   "metadata": {},
   "outputs": [
    {
     "data": {
      "text/html": [
       "<div>\n",
       "<style scoped>\n",
       "    .dataframe tbody tr th:only-of-type {\n",
       "        vertical-align: middle;\n",
       "    }\n",
       "\n",
       "    .dataframe tbody tr th {\n",
       "        vertical-align: top;\n",
       "    }\n",
       "\n",
       "    .dataframe thead th {\n",
       "        text-align: right;\n",
       "    }\n",
       "</style>\n",
       "<table border=\"1\" class=\"dataframe\">\n",
       "  <thead>\n",
       "    <tr style=\"text-align: right;\">\n",
       "      <th></th>\n",
       "      <th>type</th>\n",
       "      <th>year</th>\n",
       "      <th>words_cnt</th>\n",
       "      <th>avg_sense_all</th>\n",
       "      <th>words_cnt_nonzero</th>\n",
       "      <th>avg_sense_nonzero</th>\n",
       "      <th>zero_sense_ratio</th>\n",
       "    </tr>\n",
       "  </thead>\n",
       "  <tbody>\n",
       "    <tr>\n",
       "      <th>0</th>\n",
       "      <td>GSAT</td>\n",
       "      <td>105</td>\n",
       "      <td>399</td>\n",
       "      <td>5.100251</td>\n",
       "      <td>300</td>\n",
       "      <td>6.783333</td>\n",
       "      <td>0.353448</td>\n",
       "    </tr>\n",
       "    <tr>\n",
       "      <th>1</th>\n",
       "      <td>GSAT</td>\n",
       "      <td>107</td>\n",
       "      <td>268</td>\n",
       "      <td>5.313433</td>\n",
       "      <td>193</td>\n",
       "      <td>7.378238</td>\n",
       "      <td>0.584052</td>\n",
       "    </tr>\n",
       "    <tr>\n",
       "      <th>2</th>\n",
       "      <td>AST</td>\n",
       "      <td>101</td>\n",
       "      <td>345</td>\n",
       "      <td>6.191304</td>\n",
       "      <td>242</td>\n",
       "      <td>8.826446</td>\n",
       "      <td>0.478448</td>\n",
       "    </tr>\n",
       "    <tr>\n",
       "      <th>3</th>\n",
       "      <td>GSAT</td>\n",
       "      <td>101</td>\n",
       "      <td>345</td>\n",
       "      <td>6.011594</td>\n",
       "      <td>264</td>\n",
       "      <td>7.856061</td>\n",
       "      <td>0.431034</td>\n",
       "    </tr>\n",
       "    <tr>\n",
       "      <th>4</th>\n",
       "      <td>AST</td>\n",
       "      <td>103</td>\n",
       "      <td>394</td>\n",
       "      <td>5.581218</td>\n",
       "      <td>305</td>\n",
       "      <td>7.209836</td>\n",
       "      <td>0.342672</td>\n",
       "    </tr>\n",
       "  </tbody>\n",
       "</table>\n",
       "</div>"
      ],
      "text/plain": [
       "   type year  words_cnt  avg_sense_all  words_cnt_nonzero  avg_sense_nonzero  \\\n",
       "0  GSAT  105        399       5.100251                300           6.783333   \n",
       "1  GSAT  107        268       5.313433                193           7.378238   \n",
       "2   AST  101        345       6.191304                242           8.826446   \n",
       "3  GSAT  101        345       6.011594                264           7.856061   \n",
       "4   AST  103        394       5.581218                305           7.209836   \n",
       "\n",
       "   zero_sense_ratio  \n",
       "0          0.353448  \n",
       "1          0.584052  \n",
       "2          0.478448  \n",
       "3          0.431034  \n",
       "4          0.342672  "
      ]
     },
     "metadata": {},
     "output_type": "display_data"
    }
   ],
   "source": [
    "all_senses_df_sum = all_senses_df_sum.assign(zero_sense_ratio = 1 - all_senses_df_sum['zero_sense_ratio'])\n",
    "display(all_senses_df_sum.head())"
   ]
  },
  {
   "cell_type": "markdown",
   "metadata": {},
   "source": [
    "#### 平均辭意Histogram"
   ]
  },
  {
   "cell_type": "code",
   "execution_count": 76,
   "metadata": {},
   "outputs": [
    {
     "name": "stdout",
     "output_type": "stream",
     "text": [
      "average sense from all words =  5.9117085939980205\n",
      "average sense from non-zero-sensed words =  8.013096983316956\n"
     ]
    },
    {
     "data": {
      "image/png": "[encoded data removed]",
      "text/plain": [
       "<Figure size 600x400 with 1 Axes>"
      ]
     },
     "metadata": {
      "needs_background": "light"
     },
     "output_type": "display_data"
    }
   ],
   "source": [
    "print(\"average sense from all words = \",all_senses_df_sum.avg_sense_all.mean())\n",
    "print(\"average sense from non-zero-sensed words = \",all_senses_df_sum.avg_sense_nonzero.mean())\n",
    "\n",
    "bins = np.linspace(4, 11, 35)\n",
    "\n",
    "plt.hist(all_senses_df_sum.avg_sense_all, bins, alpha=0.7, label='avg sense - all words')\n",
    "plt.hist(all_senses_df_sum.avg_sense_nonzero, bins, alpha=0.7, label='avg sense - non-zero-sensed words')\n",
    "plt.legend(loc = 'upper right', bbox_to_anchor=(1.7, 1))\n",
    "plt.grid(True)\n",
    "plt.show()"
   ]
  },
  {
   "cell_type": "markdown",
   "metadata": {},
   "source": [
    "經過計算後可以得知在所有資料中，平均辭意為5.91；扣除辭意為0的單詞後平均辭意為8.01。"
   ]
  },
  {
   "cell_type": "markdown",
   "metadata": {},
   "source": [
    "#### 冷僻字使用分析"
   ]
  },
  {
   "cell_type": "markdown",
   "metadata": {},
   "source": [
    "若我們假設辭意為零之單詞是冷僻字，經過計算可以得到每篇文章使用冷僻字的比率："
   ]
  },
  {
   "cell_type": "code",
   "execution_count": 84,
   "metadata": {},
   "outputs": [
    {
     "name": "stdout",
     "output_type": "stream",
     "text": [
      "ratio mean =  0.3614161969496021\n"
     ]
    },
    {
     "data": {
      "image/png": "[encoded data removed]",
      "text/plain": [
       "<Figure size 600x400 with 1 Axes>"
      ]
     },
     "metadata": {
      "needs_background": "light"
     },
     "output_type": "display_data"
    }
   ],
   "source": [
    "plot = all_senses_df_sum.hist(column = 'zero_sense_ratio')\n",
    "print(\"ratio mean = \",all_senses_df_sum.zero_sense_ratio.mean())"
   ]
  },
  {
   "cell_type": "markdown",
   "metadata": {},
   "source": [
    "可見在所有資料集中，冷僻字的使用平均比例為36.14%。"
   ]
  },
  {
   "cell_type": "markdown",
   "metadata": {},
   "source": [
    "### 特定詞性單詞出現頻率"
   ]
  },
  {
   "cell_type": "code",
   "execution_count": 74,
   "metadata": {},
   "outputs": [],
   "source": [
    "tmp_list = list()\n",
    "\n",
    "for i in range(all_senses_df.shape[0]):\n",
    "    tmp_list += all_senses_df.tagged_words[i]\n",
    "\n",
    "senses_df = pd.DataFrame(tmp_list, columns = ['tagged_word', 'CKIP_POS', 'sense_cnt'])\n",
    "senses_df_ = senses_df[senses_df['CKIP_POS'] != 'WHITESPACE']  #delete \\n\n",
    "senses_df_ = senses_df_[senses_df_['tagged_word'] != '。\\n'] #delete 。\\n\n",
    "\n",
    "#senses_df_.head()"
   ]
  },
  {
   "cell_type": "code",
   "execution_count": 58,
   "metadata": {},
   "outputs": [
    {
     "name": "stdout",
     "output_type": "stream",
     "text": [
      "Head of frequency of all words\n"
     ]
    },
    {
     "data": {
      "text/html": [
       "<div>\n",
       "<style scoped>\n",
       "    .dataframe tbody tr th:only-of-type {\n",
       "        vertical-align: middle;\n",
       "    }\n",
       "\n",
       "    .dataframe tbody tr th {\n",
       "        vertical-align: top;\n",
       "    }\n",
       "\n",
       "    .dataframe thead th {\n",
       "        text-align: right;\n",
       "    }\n",
       "</style>\n",
       "<table border=\"1\" class=\"dataframe\">\n",
       "  <thead>\n",
       "    <tr style=\"text-align: right;\">\n",
       "      <th></th>\n",
       "      <th></th>\n",
       "      <th></th>\n",
       "      <th>0</th>\n",
       "    </tr>\n",
       "    <tr>\n",
       "      <th>tagged_word</th>\n",
       "      <th>CKIP_POS</th>\n",
       "      <th>sense_cnt</th>\n",
       "      <th></th>\n",
       "    </tr>\n",
       "  </thead>\n",
       "  <tbody>\n",
       "    <tr>\n",
       "      <th>的</th>\n",
       "      <th>DE</th>\n",
       "      <th>16</th>\n",
       "      <td>7052</td>\n",
       "    </tr>\n",
       "    <tr>\n",
       "      <th>我</th>\n",
       "      <th>Nh</th>\n",
       "      <th>3</th>\n",
       "      <td>2705</td>\n",
       "    </tr>\n",
       "    <tr>\n",
       "      <th>一</th>\n",
       "      <th>Neu</th>\n",
       "      <th>10</th>\n",
       "      <td>1454</td>\n",
       "    </tr>\n",
       "    <tr>\n",
       "      <th>是</th>\n",
       "      <th>SHI</th>\n",
       "      <th>9</th>\n",
       "      <td>1362</td>\n",
       "    </tr>\n",
       "    <tr>\n",
       "      <th>在</th>\n",
       "      <th>P</th>\n",
       "      <th>10</th>\n",
       "      <td>1229</td>\n",
       "    </tr>\n",
       "    <tr>\n",
       "      <th>了</th>\n",
       "      <th>Di</th>\n",
       "      <th>5</th>\n",
       "      <td>836</td>\n",
       "    </tr>\n",
       "    <tr>\n",
       "      <th>不</th>\n",
       "      <th>D</th>\n",
       "      <th>3</th>\n",
       "      <td>699</td>\n",
       "    </tr>\n",
       "    <tr>\n",
       "      <th>著</th>\n",
       "      <th>Di</th>\n",
       "      <th>8</th>\n",
       "      <td>652</td>\n",
       "    </tr>\n",
       "    <tr>\n",
       "      <th>自己</th>\n",
       "      <th>Nh</th>\n",
       "      <th>5</th>\n",
       "      <td>601</td>\n",
       "    </tr>\n",
       "    <tr>\n",
       "      <th>而</th>\n",
       "      <th>Cbb</th>\n",
       "      <th>10</th>\n",
       "      <td>569</td>\n",
       "    </tr>\n",
       "  </tbody>\n",
       "</table>\n",
       "</div>"
      ],
      "text/plain": [
       "                                   0\n",
       "tagged_word CKIP_POS sense_cnt      \n",
       "的           DE       16         7052\n",
       "我           Nh       3          2705\n",
       "一           Neu      10         1454\n",
       "是           SHI      9          1362\n",
       "在           P        10         1229\n",
       "了           Di       5           836\n",
       "不           D        3           699\n",
       "著           Di       8           652\n",
       "自己          Nh       5           601\n",
       "而           Cbb      10          569"
      ]
     },
     "metadata": {},
     "output_type": "display_data"
    },
    {
     "name": "stdout",
     "output_type": "stream",
     "text": [
      "\n",
      "\n",
      "Head of frequency of Na(普通名詞) words\n"
     ]
    },
    {
     "data": {
      "text/html": [
       "<div>\n",
       "<style scoped>\n",
       "    .dataframe tbody tr th:only-of-type {\n",
       "        vertical-align: middle;\n",
       "    }\n",
       "\n",
       "    .dataframe tbody tr th {\n",
       "        vertical-align: top;\n",
       "    }\n",
       "\n",
       "    .dataframe thead th {\n",
       "        text-align: right;\n",
       "    }\n",
       "</style>\n",
       "<table border=\"1\" class=\"dataframe\">\n",
       "  <thead>\n",
       "    <tr style=\"text-align: right;\">\n",
       "      <th></th>\n",
       "      <th></th>\n",
       "      <th></th>\n",
       "      <th>0</th>\n",
       "    </tr>\n",
       "    <tr>\n",
       "      <th>tagged_word</th>\n",
       "      <th>CKIP_POS</th>\n",
       "      <th>sense_cnt</th>\n",
       "      <th></th>\n",
       "    </tr>\n",
       "  </thead>\n",
       "  <tbody>\n",
       "    <tr>\n",
       "      <th>人</th>\n",
       "      <th>Na</th>\n",
       "      <th>11</th>\n",
       "      <td>481</td>\n",
       "    </tr>\n",
       "    <tr>\n",
       "      <th>心</th>\n",
       "      <th>Na</th>\n",
       "      <th>13</th>\n",
       "      <td>247</td>\n",
       "    </tr>\n",
       "    <tr>\n",
       "      <th>生命</th>\n",
       "      <th>Na</th>\n",
       "      <th>8</th>\n",
       "      <td>234</td>\n",
       "    </tr>\n",
       "    <tr>\n",
       "      <th>人生</th>\n",
       "      <th>Na</th>\n",
       "      <th>1</th>\n",
       "      <td>206</td>\n",
       "    </tr>\n",
       "    <tr>\n",
       "      <th>夢想</th>\n",
       "      <th>Na</th>\n",
       "      <th>0</th>\n",
       "      <td>107</td>\n",
       "    </tr>\n",
       "    <tr>\n",
       "      <th>學生</th>\n",
       "      <th>Na</th>\n",
       "      <th>2</th>\n",
       "      <td>86</td>\n",
       "    </tr>\n",
       "    <tr>\n",
       "      <th>逆境</th>\n",
       "      <th>Na</th>\n",
       "      <th>0</th>\n",
       "      <td>83</td>\n",
       "    </tr>\n",
       "    <tr>\n",
       "      <th>夢</th>\n",
       "      <th>Na</th>\n",
       "      <th>3</th>\n",
       "      <td>81</td>\n",
       "    </tr>\n",
       "    <tr>\n",
       "      <th>郵筒</th>\n",
       "      <th>Na</th>\n",
       "      <th>0</th>\n",
       "      <td>78</td>\n",
       "    </tr>\n",
       "    <tr>\n",
       "      <th>生活</th>\n",
       "      <th>Na</th>\n",
       "      <th>3</th>\n",
       "      <td>78</td>\n",
       "    </tr>\n",
       "  </tbody>\n",
       "</table>\n",
       "</div>"
      ],
      "text/plain": [
       "                                  0\n",
       "tagged_word CKIP_POS sense_cnt     \n",
       "人           Na       11         481\n",
       "心           Na       13         247\n",
       "生命          Na       8          234\n",
       "人生          Na       1          206\n",
       "夢想          Na       0          107\n",
       "學生          Na       2           86\n",
       "逆境          Na       0           83\n",
       "夢           Na       3           81\n",
       "郵筒          Na       0           78\n",
       "生活          Na       3           78"
      ]
     },
     "metadata": {},
     "output_type": "display_data"
    },
    {
     "name": "stdout",
     "output_type": "stream",
     "text": [
      "\n",
      "\n",
      "Head of frequency of Nb(專有名稱) words\n"
     ]
    },
    {
     "data": {
      "text/html": [
       "<div>\n",
       "<style scoped>\n",
       "    .dataframe tbody tr th:only-of-type {\n",
       "        vertical-align: middle;\n",
       "    }\n",
       "\n",
       "    .dataframe tbody tr th {\n",
       "        vertical-align: top;\n",
       "    }\n",
       "\n",
       "    .dataframe thead th {\n",
       "        text-align: right;\n",
       "    }\n",
       "</style>\n",
       "<table border=\"1\" class=\"dataframe\">\n",
       "  <thead>\n",
       "    <tr style=\"text-align: right;\">\n",
       "      <th></th>\n",
       "      <th></th>\n",
       "      <th></th>\n",
       "      <th>0</th>\n",
       "    </tr>\n",
       "    <tr>\n",
       "      <th>tagged_word</th>\n",
       "      <th>CKIP_POS</th>\n",
       "      <th>sense_cnt</th>\n",
       "      <th></th>\n",
       "    </tr>\n",
       "  </thead>\n",
       "  <tbody>\n",
       "    <tr>\n",
       "      <th>孔子</th>\n",
       "      <th>Nb</th>\n",
       "      <th>3</th>\n",
       "      <td>13</td>\n",
       "    </tr>\n",
       "    <tr>\n",
       "      <th>李白</th>\n",
       "      <th>Nb</th>\n",
       "      <th>2</th>\n",
       "      <td>11</td>\n",
       "    </tr>\n",
       "    <tr>\n",
       "      <th>項羽</th>\n",
       "      <th>Nb</th>\n",
       "      <th>0</th>\n",
       "      <td>11</td>\n",
       "    </tr>\n",
       "    <tr>\n",
       "      <th>蘇迪勒</th>\n",
       "      <th>Nb</th>\n",
       "      <th>0</th>\n",
       "      <td>10</td>\n",
       "    </tr>\n",
       "    <tr>\n",
       "      <th>柳宗元</th>\n",
       "      <th>Nb</th>\n",
       "      <th>0</th>\n",
       "      <td>8</td>\n",
       "    </tr>\n",
       "    <tr>\n",
       "      <th>柯麥隆</th>\n",
       "      <th>Nb</th>\n",
       "      <th>0</th>\n",
       "      <td>8</td>\n",
       "    </tr>\n",
       "    <tr>\n",
       "      <th>蘇軾</th>\n",
       "      <th>Nb</th>\n",
       "      <th>0</th>\n",
       "      <td>8</td>\n",
       "    </tr>\n",
       "    <tr>\n",
       "      <th>陶淵明</th>\n",
       "      <th>Nb</th>\n",
       "      <th>0</th>\n",
       "      <td>7</td>\n",
       "    </tr>\n",
       "    <tr>\n",
       "      <th>李安</th>\n",
       "      <th>Nb</th>\n",
       "      <th>0</th>\n",
       "      <td>7</td>\n",
       "    </tr>\n",
       "    <tr>\n",
       "      <th>司馬遷</th>\n",
       "      <th>Nb</th>\n",
       "      <th>0</th>\n",
       "      <td>6</td>\n",
       "    </tr>\n",
       "  </tbody>\n",
       "</table>\n",
       "</div>"
      ],
      "text/plain": [
       "                                 0\n",
       "tagged_word CKIP_POS sense_cnt    \n",
       "孔子          Nb       3          13\n",
       "李白          Nb       2          11\n",
       "項羽          Nb       0          11\n",
       "蘇迪勒         Nb       0          10\n",
       "柳宗元         Nb       0           8\n",
       "柯麥隆         Nb       0           8\n",
       "蘇軾          Nb       0           8\n",
       "陶淵明         Nb       0           7\n",
       "李安          Nb       0           7\n",
       "司馬遷         Nb       0           6"
      ]
     },
     "metadata": {},
     "output_type": "display_data"
    },
    {
     "name": "stdout",
     "output_type": "stream",
     "text": [
      "\n",
      "\n",
      "Head of frequency of V words (excluding V_2)\n"
     ]
    },
    {
     "data": {
      "text/html": [
       "<div>\n",
       "<style scoped>\n",
       "    .dataframe tbody tr th:only-of-type {\n",
       "        vertical-align: middle;\n",
       "    }\n",
       "\n",
       "    .dataframe tbody tr th {\n",
       "        vertical-align: top;\n",
       "    }\n",
       "\n",
       "    .dataframe thead th {\n",
       "        text-align: right;\n",
       "    }\n",
       "</style>\n",
       "<table border=\"1\" class=\"dataframe\">\n",
       "  <thead>\n",
       "    <tr style=\"text-align: right;\">\n",
       "      <th></th>\n",
       "      <th>tagged_word</th>\n",
       "      <th>CKIP_POS</th>\n",
       "      <th>sense_cnt</th>\n",
       "    </tr>\n",
       "  </thead>\n",
       "  <tbody>\n",
       "    <tr>\n",
       "      <th>5</th>\n",
       "      <td>笑</td>\n",
       "      <td>VA</td>\n",
       "      <td>2</td>\n",
       "    </tr>\n",
       "    <tr>\n",
       "      <th>11</th>\n",
       "      <td>橫掃</td>\n",
       "      <td>VCL</td>\n",
       "      <td>0</td>\n",
       "    </tr>\n",
       "    <tr>\n",
       "      <th>15</th>\n",
       "      <td>破壞</td>\n",
       "      <td>VC</td>\n",
       "      <td>2</td>\n",
       "    </tr>\n",
       "    <tr>\n",
       "      <th>18</th>\n",
       "      <td>創造</td>\n",
       "      <td>VC</td>\n",
       "      <td>2</td>\n",
       "    </tr>\n",
       "    <tr>\n",
       "      <th>28</th>\n",
       "      <td>肆虐</td>\n",
       "      <td>VC</td>\n",
       "      <td>0</td>\n",
       "    </tr>\n",
       "    <tr>\n",
       "      <th>30</th>\n",
       "      <td>歪</td>\n",
       "      <td>VH</td>\n",
       "      <td>7</td>\n",
       "    </tr>\n",
       "    <tr>\n",
       "      <th>35</th>\n",
       "      <td>進入</td>\n",
       "      <td>VCL</td>\n",
       "      <td>8</td>\n",
       "    </tr>\n",
       "    <tr>\n",
       "      <th>42</th>\n",
       "      <td>湧</td>\n",
       "      <td>VA</td>\n",
       "      <td>4</td>\n",
       "    </tr>\n",
       "    <tr>\n",
       "      <th>47</th>\n",
       "      <td>拿起</td>\n",
       "      <td>VC</td>\n",
       "      <td>0</td>\n",
       "    </tr>\n",
       "    <tr>\n",
       "      <th>49</th>\n",
       "      <td>拍照</td>\n",
       "      <td>VB</td>\n",
       "      <td>1</td>\n",
       "    </tr>\n",
       "  </tbody>\n",
       "</table>\n",
       "</div>"
      ],
      "text/plain": [
       "   tagged_word CKIP_POS  sense_cnt\n",
       "5            笑       VA          2\n",
       "11          橫掃      VCL          0\n",
       "15          破壞       VC          2\n",
       "18          創造       VC          2\n",
       "28          肆虐       VC          0\n",
       "30           歪       VH          7\n",
       "35          進入      VCL          8\n",
       "42           湧       VA          4\n",
       "47          拿起       VC          0\n",
       "49          拍照       VB          1"
      ]
     },
     "metadata": {},
     "output_type": "display_data"
    },
    {
     "name": "stdout",
     "output_type": "stream",
     "text": [
      "\n",
      "\n",
      "Head of frequency of VA(動作不及物動詞) words\n"
     ]
    },
    {
     "data": {
      "text/html": [
       "<div>\n",
       "<style scoped>\n",
       "    .dataframe tbody tr th:only-of-type {\n",
       "        vertical-align: middle;\n",
       "    }\n",
       "\n",
       "    .dataframe tbody tr th {\n",
       "        vertical-align: top;\n",
       "    }\n",
       "\n",
       "    .dataframe thead th {\n",
       "        text-align: right;\n",
       "    }\n",
       "</style>\n",
       "<table border=\"1\" class=\"dataframe\">\n",
       "  <thead>\n",
       "    <tr style=\"text-align: right;\">\n",
       "      <th></th>\n",
       "      <th></th>\n",
       "      <th></th>\n",
       "      <th>0</th>\n",
       "    </tr>\n",
       "    <tr>\n",
       "      <th>tagged_word</th>\n",
       "      <th>CKIP_POS</th>\n",
       "      <th>sense_cnt</th>\n",
       "      <th></th>\n",
       "    </tr>\n",
       "  </thead>\n",
       "  <tbody>\n",
       "    <tr>\n",
       "      <th>應變</th>\n",
       "      <th>VA</th>\n",
       "      <th>0</th>\n",
       "      <td>45</td>\n",
       "    </tr>\n",
       "    <tr>\n",
       "      <th>來</th>\n",
       "      <th>VA</th>\n",
       "      <th>19</th>\n",
       "      <td>44</td>\n",
       "    </tr>\n",
       "    <tr>\n",
       "      <th>通關</th>\n",
       "      <th>VA</th>\n",
       "      <th>0</th>\n",
       "      <td>39</td>\n",
       "    </tr>\n",
       "    <tr>\n",
       "      <th>度人</th>\n",
       "      <th>VA</th>\n",
       "      <th>0</th>\n",
       "      <td>36</td>\n",
       "    </tr>\n",
       "    <tr>\n",
       "      <th>存在</th>\n",
       "      <th>VA</th>\n",
       "      <th>3</th>\n",
       "      <td>32</td>\n",
       "    </tr>\n",
       "    <tr>\n",
       "      <th>笑</th>\n",
       "      <th>VA</th>\n",
       "      <th>2</th>\n",
       "      <td>30</td>\n",
       "    </tr>\n",
       "    <tr>\n",
       "      <th>歪腰</th>\n",
       "      <th>VA</th>\n",
       "      <th>0</th>\n",
       "      <td>29</td>\n",
       "    </tr>\n",
       "    <tr>\n",
       "      <th>站</th>\n",
       "      <th>VA</th>\n",
       "      <th>7</th>\n",
       "      <td>23</td>\n",
       "    </tr>\n",
       "    <tr>\n",
       "      <th>走</th>\n",
       "      <th>VA</th>\n",
       "      <th>20</th>\n",
       "      <td>21</td>\n",
       "    </tr>\n",
       "    <tr>\n",
       "      <th>坐</th>\n",
       "      <th>VA</th>\n",
       "      <th>12</th>\n",
       "      <td>19</td>\n",
       "    </tr>\n",
       "  </tbody>\n",
       "</table>\n",
       "</div>"
      ],
      "text/plain": [
       "                                 0\n",
       "tagged_word CKIP_POS sense_cnt    \n",
       "應變          VA       0          45\n",
       "來           VA       19         44\n",
       "通關          VA       0          39\n",
       "度人          VA       0          36\n",
       "存在          VA       3          32\n",
       "笑           VA       2          30\n",
       "歪腰          VA       0          29\n",
       "站           VA       7          23\n",
       "走           VA       20         21\n",
       "坐           VA       12         19"
      ]
     },
     "metadata": {},
     "output_type": "display_data"
    }
   ],
   "source": [
    "words_cnt_ = pd.DataFrame(senses_df_.value_counts())\n",
    "print(\"Head of frequency of all words\")\n",
    "display(words_cnt_.head(10))\n",
    "\n",
    "words_cnt_Na = senses_df_[senses_df_.CKIP_POS == 'Na']\n",
    "words_cnt_Na = pd.DataFrame(words_cnt_Na.value_counts())\n",
    "print(\"\\n\\nHead of frequency of Na(普通名詞) words\")\n",
    "display(words_cnt_Na.head(10))\n",
    "\n",
    "words_cnt_Nb = senses_df_[senses_df_.CKIP_POS == 'Nb']\n",
    "words_cnt_Nb = pd.DataFrame(words_cnt_Nb.value_counts())\n",
    "print(\"\\n\\nHead of frequency of Nb(專有名稱) words\")\n",
    "display(words_cnt_Nb.head(10))\n",
    "\n",
    "words_cnt_V = senses_df_[senses_df_.CKIP_POS != 'V_2']\n",
    "words_cnt_V = words_cnt_V.loc[words_cnt_V['CKIP_POS'].str.contains('V')]\n",
    "print(\"\\n\\nHead of frequency of V words (excluding V_2)\")\n",
    "display(words_cnt_V.head(10))\n",
    "\n",
    "words_cnt_VA = senses_df_[senses_df_.CKIP_POS == 'VA']\n",
    "words_cnt_VA = pd.DataFrame(words_cnt_VA.value_counts())\n",
    "print(\"\\n\\nHead of frequency of VA(動作不及物動詞) words\")\n",
    "display(words_cnt_VA.head(10))"
   ]
  },
  {
   "cell_type": "markdown",
   "metadata": {},
   "source": [
    "以上我們統計了幾個特定詞性在所有資料集的單詞出現頻率。"
   ]
  },
  {
   "cell_type": "code",
   "execution_count": null,
   "metadata": {},
   "outputs": [],
   "source": []
  }
 ],
 "metadata": {
  "kernelspec": {
   "display_name": "Python 3",
   "language": "python",
   "name": "python3"
  },
  "language_info": {
   "codemirror_mode": {
    "name": "ipython",
    "version": 3
   },
   "file_extension": ".py",
   "mimetype": "text/x-python",
   "name": "python",
   "nbconvert_exporter": "python",
   "pygments_lexer": "ipython3",
   "version": "3.7.10"
  }
 },
 "nbformat": 4,
 "nbformat_minor": 5
}
