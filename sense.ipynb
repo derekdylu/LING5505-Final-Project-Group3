{
 "cells": [
  {
   "cell_type": "raw",
   "id": "modular-audio",
   "metadata": {},
   "source": [
    "#>cd Documents/NTU/2_Sophomore/2-2/R/Project/LING5505-Final-Project-Group3"
   ]
  },
  {
   "cell_type": "code",
   "execution_count": 1,
   "id": "macro-botswana",
   "metadata": {},
   "outputs": [
    {
     "name": "stdout",
     "output_type": "stream",
     "text": [
      "A copy of DistilTag model already exists. Use upgrade=True to overwrite\n",
      "A copy of cwn_grpah.pyobj already exists. Use upgrade=True to overwrite\n"
     ]
    }
   ],
   "source": [
    "import numpy as np\n",
    "import pandas as pd\n",
    "import gdown\n",
    "import os\n",
    "\n",
    "import torch\n",
    "import transformers\n",
    "\n",
    "import CwnSenseTagger\n",
    "CwnSenseTagger.download()\n",
    "\n",
    "import CwnGraph\n",
    "CwnGraph.download()\n",
    "\n",
    "from CwnGraph import CwnBase\n",
    "from ckiptagger import data_utils, construct_dictionary, WS, POS, NER\n",
    "\n",
    "#import DistilTag\n",
    "#DistilTag.download()"
   ]
  },
  {
   "cell_type": "code",
   "execution_count": 2,
   "id": "agricultural-canberra",
   "metadata": {},
   "outputs": [
    {
     "name": "stderr",
     "output_type": "stream",
     "text": [
      "/Users/dereklu/opt/anaconda3/lib/python3.7/site-packages/tensorflow/python/keras/layers/legacy_rnn/rnn_cell_impl.py:909: UserWarning: `tf.nn.rnn_cell.LSTMCell` is deprecated and will be removed in a future version. This class is equivalent as `tf.keras.layers.LSTMCell`, and will be replaced by that in Tensorflow 2.0.\n",
      "  warnings.warn(\"`tf.nn.rnn_cell.LSTMCell` is deprecated and will be \"\n",
      "/Users/dereklu/opt/anaconda3/lib/python3.7/site-packages/tensorflow/python/keras/engine/base_layer_v1.py:1700: UserWarning: `layer.add_variable` is deprecated and will be removed in a future version. Please use `layer.add_weight` method instead.\n",
      "  warnings.warn('`layer.add_variable` is deprecated and '\n"
     ]
    }
   ],
   "source": [
    "ws = WS(os.path.abspath(os.path.join(os.getcwd(), os.path.pardir)) + '/data')\n",
    "pos = POS(os.path.abspath(os.path.join(os.getcwd(), os.path.pardir)) + '/data')\n",
    "ner = NER(os.path.abspath(os.path.join(os.getcwd(), os.path.pardir)) + '/data')"
   ]
  },
  {
   "cell_type": "markdown",
   "id": "convertible-editor",
   "metadata": {},
   "source": [
    "### 讀取資料集"
   ]
  },
  {
   "cell_type": "code",
   "execution_count": 3,
   "id": "applied-directory",
   "metadata": {},
   "outputs": [
    {
     "data": {
      "text/plain": [
       "208"
      ]
     },
     "execution_count": 3,
     "metadata": {},
     "output_type": "execute_result"
    }
   ],
   "source": [
    "all_f = []\n",
    "\n",
    "for file in os.listdir(\"data_set/\"):\n",
    "    if file.endswith(\".txt\"): all_f.append(file)\n",
    "\n",
    "len(all_f)"
   ]
  },
  {
   "cell_type": "code",
   "execution_count": 4,
   "id": "ignored-substance",
   "metadata": {},
   "outputs": [],
   "source": [
    "sentence_list = []\n",
    "\n",
    "for i in all_f:\n",
    "    f = open(\"data_set/\" + i)\n",
    "    sentence_list.append(f.read())"
   ]
  },
  {
   "cell_type": "code",
   "execution_count": 5,
   "id": "pending-playlist",
   "metadata": {},
   "outputs": [
    {
     "name": "stdout",
     "output_type": "stream",
     "text": [
      "秋天總給人一種蕭瑟之感，但我卻對秋天情有獨鍾。\n",
      "秋風颯颯，捲起了千堆落葉，也捲起了眾多遷客騷人的心。秋是詩人的季節，許多對人生的慨歎或瞭悟在這個季節找到了適當的詞語。秋風一起，詩句亦在詩人的腦中跳躍並重組著，待風歇息，一首首動人的詩句便完成了，也因此我能在這悽美的季節，吟詠著古今文人的寂寞，抑或曠達，進而尋找自己的人生方向。\n",
      "如果夏是一首絕句，我認為邱是舖採搞文的長賦。厭倦秋天的人認為它冗言而寡要，而深愛的秋天的人總能讀出壯麗的美感。秋天是個冷靜的季節，它總沉得住氣。它不急不徐，卻在我們的周遭留下一些痕跡。秋風吹著樹葉，卻不催它迅速轉紅。每日每日，秋意漸濃，樹葉也一點一點轉黃至淡紅中至深紅而落下。秋天看似孤傲，不易接近，但它默默付出心力，在季節得遞嬗扮演著轉承的角色，落下的葉是為了留下空間迎接新生命的到來，讓眾人所愛的綠再次蓊鬱。秋總不居功，它不喜歡光彩奪目的人生，但它成就著他人的輝煌。\n",
      "我期許著自己能如同秋天一般，無伐善、無施勞，貢獻一己之心，讓社會能持續轉動，不停歇。\n",
      "\n",
      "list length =  208\n"
     ]
    }
   ],
   "source": [
    "print(sentence_list[1])\n",
    "print(\"\\nlist length = \", len(sentence_list))"
   ]
  },
  {
   "cell_type": "markdown",
   "id": "forced-transportation",
   "metadata": {},
   "source": [
    "### setting ckiptagger"
   ]
  },
  {
   "cell_type": "code",
   "execution_count": 6,
   "id": "protecting-gibson",
   "metadata": {},
   "outputs": [],
   "source": [
    "word_sentence_list = ws(sentence_list)\n",
    "\n",
    "pos_sentence_list = pos(word_sentence_list)\n",
    "\n",
    "entity_sentence_list = ner(word_sentence_list, pos_sentence_list)"
   ]
  },
  {
   "cell_type": "markdown",
   "id": "charming-chest",
   "metadata": {},
   "source": [
    "### 斷詞結果顯示函式"
   ]
  },
  {
   "cell_type": "code",
   "execution_count": 7,
   "id": "numerical-insight",
   "metadata": {},
   "outputs": [
    {
     "data": {
      "text/plain": [
       "'\\nfor i, sentence in enumerate(sentence_list):\\n    print(f\"\\'{sentence}\\'\")\\n    print_word_pos_sentence(word_sentence_list[i],  pos_sentence_list[i])\\n    for entity in sorted(entity_sentence_list[i]):\\n        print(entity)\\n'"
      ]
     },
     "execution_count": 7,
     "metadata": {},
     "output_type": "execute_result"
    }
   ],
   "source": [
    "def print_word_pos_sentence (word_sentence, pos_sentence):\n",
    "    assert len(word_sentence) == len(pos_sentence)\n",
    "    for word, pos in zip(word_sentence, pos_sentence):\n",
    "        print(f\"{word}({pos})\", end=\"\\u3000\")\n",
    "    print()\n",
    "    return\n",
    "\n",
    "\"\"\"\n",
    "for i, sentence in enumerate(sentence_list):\n",
    "    print(f\"'{sentence}'\")\n",
    "    print_word_pos_sentence(word_sentence_list[i],  pos_sentence_list[i])\n",
    "    for entity in sorted(entity_sentence_list[i]):\n",
    "        print(entity)\n",
    "\"\"\""
   ]
  },
  {
   "cell_type": "markdown",
   "id": "related-nothing",
   "metadata": {},
   "source": [
    "### 詞性頻率分析"
   ]
  },
  {
   "cell_type": "code",
   "execution_count": 8,
   "id": "lonely-reporter",
   "metadata": {},
   "outputs": [
    {
     "data": {
      "text/plain": [
       "0                    Nd\n",
       "1         COMMACATEGORY\n",
       "2                    Na\n",
       "3                     D\n",
       "4                    Da\n",
       "              ...      \n",
       "98561                Nh\n",
       "98562     COMMACATEGORY\n",
       "98563               Dfa\n",
       "98564                VH\n",
       "98565    PERIODCATEGORY\n",
       "Length: 98566, dtype: object"
      ]
     },
     "execution_count": 8,
     "metadata": {},
     "output_type": "execute_result"
    }
   ],
   "source": [
    "pos_sentence_arr = pd.Series(np.concatenate(pos_sentence_list))\n",
    "pos_sentence_arr"
   ]
  },
  {
   "cell_type": "code",
   "execution_count": 9,
   "id": "adapted-armor",
   "metadata": {},
   "outputs": [
    {
     "data": {
      "text/html": [
       "<div>\n",
       "<style scoped>\n",
       "    .dataframe tbody tr th:only-of-type {\n",
       "        vertical-align: middle;\n",
       "    }\n",
       "\n",
       "    .dataframe tbody tr th {\n",
       "        vertical-align: top;\n",
       "    }\n",
       "\n",
       "    .dataframe thead th {\n",
       "        text-align: right;\n",
       "    }\n",
       "</style>\n",
       "<table border=\"1\" class=\"dataframe\">\n",
       "  <thead>\n",
       "    <tr style=\"text-align: right;\">\n",
       "      <th></th>\n",
       "      <th>CKIP_POS</th>\n",
       "      <th>frequency</th>\n",
       "    </tr>\n",
       "  </thead>\n",
       "  <tbody>\n",
       "    <tr>\n",
       "      <th>20</th>\n",
       "      <td>Na</td>\n",
       "      <td>14600</td>\n",
       "    </tr>\n",
       "    <tr>\n",
       "      <th>2</th>\n",
       "      <td>COMMACATEGORY</td>\n",
       "      <td>9093</td>\n",
       "    </tr>\n",
       "    <tr>\n",
       "      <th>7</th>\n",
       "      <td>D</td>\n",
       "      <td>8546</td>\n",
       "    </tr>\n",
       "    <tr>\n",
       "      <th>9</th>\n",
       "      <td>DE</td>\n",
       "      <td>7679</td>\n",
       "    </tr>\n",
       "    <tr>\n",
       "      <th>51</th>\n",
       "      <td>VH</td>\n",
       "      <td>7426</td>\n",
       "    </tr>\n",
       "  </tbody>\n",
       "</table>\n",
       "</div>"
      ],
      "text/plain": [
       "         CKIP_POS  frequency\n",
       "20             Na      14600\n",
       "2   COMMACATEGORY       9093\n",
       "7               D       8546\n",
       "9              DE       7679\n",
       "51             VH       7426"
      ]
     },
     "execution_count": 9,
     "metadata": {},
     "output_type": "execute_result"
    }
   ],
   "source": [
    "pos_df = pos_sentence_arr.value_counts().sort_index().rename_axis('CKIP_POS').reset_index(name = 'frequency')\n",
    "pos_df_sorted = pos_df.sort_values(by = ['frequency'], ascending = False)\n",
    "pos_df_sorted.head()"
   ]
  },
  {
   "cell_type": "markdown",
   "id": "knowing-bloom",
   "metadata": {},
   "source": [
    "### 斷詞"
   ]
  },
  {
   "cell_type": "code",
   "execution_count": 10,
   "id": "internal-aurora",
   "metadata": {},
   "outputs": [
    {
     "data": {
      "text/plain": [
       "0        這時\n",
       "1         ，\n",
       "2         人\n",
       "3         也\n",
       "4         只\n",
       "         ..\n",
       "98561     我\n",
       "98562     ，\n",
       "98563     很\n",
       "98564    幸福\n",
       "98565     。\n",
       "Length: 98566, dtype: object"
      ]
     },
     "execution_count": 10,
     "metadata": {},
     "output_type": "execute_result"
    }
   ],
   "source": [
    "word_sentence_arr = pd.Series(np.concatenate(word_sentence_list))\n",
    "word_sentence_arr"
   ]
  },
  {
   "cell_type": "markdown",
   "id": "usual-export",
   "metadata": {},
   "source": [
    "### 單詞辭意計算"
   ]
  },
  {
   "cell_type": "code",
   "execution_count": 11,
   "id": "motivated-special",
   "metadata": {},
   "outputs": [],
   "source": [
    "cwn = CwnBase()\n",
    "    \n",
    "def all_sense_tree (word, verbal = False):\n",
    "    cnt = 0\n",
    "    for i in range(len(word)):\n",
    "        snese_tree = word[i].senses\n",
    "        cnt += len(word[i].senses)\n",
    "        if(verbal == True): print(snese_tree)\n",
    "    \n",
    "    if(verbal == True): print(\"total senses = \", cnt)\n",
    "    return cnt"
   ]
  },
  {
   "cell_type": "code",
   "execution_count": 12,
   "id": "figured-mustang",
   "metadata": {},
   "outputs": [
    {
     "name": "stdout",
     "output_type": "stream",
     "text": [
      "word:  這時\n",
      "total senses =  0\n"
     ]
    },
    {
     "data": {
      "text/plain": [
       "0"
      ]
     },
     "execution_count": 12,
     "metadata": {},
     "output_type": "execute_result"
    }
   ],
   "source": [
    "_word = word_sentence_arr[0]\n",
    "word = cwn.find_lemma(\"^\" + _word + \"$\")\n",
    "print(\"word: \", _word)\n",
    "all_sense_tree(word, verbal = True)"
   ]
  },
  {
   "cell_type": "markdown",
   "id": "regional-elevation",
   "metadata": {},
   "source": [
    "### 所有單詞詞性與辭意計算（辭意非零者）"
   ]
  },
  {
   "cell_type": "code",
   "execution_count": 13,
   "id": "confidential-binary",
   "metadata": {},
   "outputs": [
    {
     "data": {
      "text/html": [
       "<div>\n",
       "<style scoped>\n",
       "    .dataframe tbody tr th:only-of-type {\n",
       "        vertical-align: middle;\n",
       "    }\n",
       "\n",
       "    .dataframe tbody tr th {\n",
       "        vertical-align: top;\n",
       "    }\n",
       "\n",
       "    .dataframe thead th {\n",
       "        text-align: right;\n",
       "    }\n",
       "</style>\n",
       "<table border=\"1\" class=\"dataframe\">\n",
       "  <thead>\n",
       "    <tr style=\"text-align: right;\">\n",
       "      <th></th>\n",
       "      <th>Word</th>\n",
       "      <th>CKIP_POS</th>\n",
       "      <th>sense_cnt</th>\n",
       "    </tr>\n",
       "  </thead>\n",
       "  <tbody>\n",
       "    <tr>\n",
       "      <th>1</th>\n",
       "      <td>人</td>\n",
       "      <td>Na</td>\n",
       "      <td>11</td>\n",
       "    </tr>\n",
       "    <tr>\n",
       "      <th>2</th>\n",
       "      <td>也</td>\n",
       "      <td>D</td>\n",
       "      <td>15</td>\n",
       "    </tr>\n",
       "    <tr>\n",
       "      <th>3</th>\n",
       "      <td>只</td>\n",
       "      <td>Da</td>\n",
       "      <td>8</td>\n",
       "    </tr>\n",
       "    <tr>\n",
       "      <th>4</th>\n",
       "      <td>能</td>\n",
       "      <td>D</td>\n",
       "      <td>5</td>\n",
       "    </tr>\n",
       "    <tr>\n",
       "      <th>5</th>\n",
       "      <td>笑</td>\n",
       "      <td>VA</td>\n",
       "      <td>2</td>\n",
       "    </tr>\n",
       "    <tr>\n",
       "      <th>...</th>\n",
       "      <td>...</td>\n",
       "      <td>...</td>\n",
       "      <td>...</td>\n",
       "    </tr>\n",
       "    <tr>\n",
       "      <th>83429</th>\n",
       "      <td>人間</td>\n",
       "      <td>Nc</td>\n",
       "      <td>1</td>\n",
       "    </tr>\n",
       "    <tr>\n",
       "      <th>83430</th>\n",
       "      <td>愉快</td>\n",
       "      <td>VH</td>\n",
       "      <td>1</td>\n",
       "    </tr>\n",
       "    <tr>\n",
       "      <th>83431</th>\n",
       "      <td>我</td>\n",
       "      <td>Nh</td>\n",
       "      <td>3</td>\n",
       "    </tr>\n",
       "    <tr>\n",
       "      <th>83432</th>\n",
       "      <td>很</td>\n",
       "      <td>Dfa</td>\n",
       "      <td>1</td>\n",
       "    </tr>\n",
       "    <tr>\n",
       "      <th>83433</th>\n",
       "      <td>幸福</td>\n",
       "      <td>VH</td>\n",
       "      <td>1</td>\n",
       "    </tr>\n",
       "  </tbody>\n",
       "</table>\n",
       "<p>61799 rows × 3 columns</p>\n",
       "</div>"
      ],
      "text/plain": [
       "      Word CKIP_POS  sense_cnt\n",
       "1        人       Na         11\n",
       "2        也        D         15\n",
       "3        只       Da          8\n",
       "4        能        D          5\n",
       "5        笑       VA          2\n",
       "...    ...      ...        ...\n",
       "83429   人間       Nc          1\n",
       "83430   愉快       VH          1\n",
       "83431    我       Nh          3\n",
       "83432    很      Dfa          1\n",
       "83433   幸福       VH          1\n",
       "\n",
       "[61799 rows x 3 columns]"
      ]
     },
     "execution_count": 13,
     "metadata": {},
     "output_type": "execute_result"
    }
   ],
   "source": [
    "pun_set = {\"COLONCATEGORY\", \"COMMACATEGORY\", \"DASHCATEGORY\", \"ETCCATEGORY\", \"EXCLAMATIONCATEGORY\", \"PARENTHESISCATEGORY\",\n",
    "          \"PAUSECATEGORY\", \"PERIODCATEGORY\", \"QUESTIONCATEGORY\", \"SEMICOLONCATEGORY\", \"SPCHANGECATEGORY\"}\n",
    "\n",
    "senses_list = list()\n",
    "\n",
    "for i in range(len(word_sentence_arr)):\n",
    "    if(pos_sentence_arr[i] not in pun_set):\n",
    "        _word = word_sentence_arr[i]\n",
    "        word = cwn.find_lemma(\"^\" + _word + \"$\")\n",
    "        sense_cnt = all_sense_tree(word)\n",
    "        senses_list.append((word_sentence_arr[i], pos_sentence_arr[i], sense_cnt))\n",
    "        \n",
    "senses_df = pd.DataFrame(senses_list, columns = ['Word', 'CKIP_POS', 'sense_cnt'])\n",
    "senses_df_ = senses_df[senses_df.sense_cnt != 0]\n",
    "senses_df_"
   ]
  },
  {
   "cell_type": "markdown",
   "id": "binding-potential",
   "metadata": {},
   "source": [
    "### 辭意非零者平均辭意"
   ]
  },
  {
   "cell_type": "code",
   "execution_count": 14,
   "id": "continental-sierra",
   "metadata": {},
   "outputs": [
    {
     "data": {
      "text/plain": [
       "7.985274842634994"
      ]
     },
     "execution_count": 14,
     "metadata": {},
     "output_type": "execute_result"
    }
   ],
   "source": [
    "# count average senses\n",
    "senses_df_['sense_cnt'].mean()"
   ]
  },
  {
   "cell_type": "markdown",
   "id": "affected-causing",
   "metadata": {},
   "source": [
    "### 辭意為零者"
   ]
  },
  {
   "cell_type": "code",
   "execution_count": 15,
   "id": "acquired-siemens",
   "metadata": {},
   "outputs": [
    {
     "data": {
      "text/html": [
       "<div>\n",
       "<style scoped>\n",
       "    .dataframe tbody tr th:only-of-type {\n",
       "        vertical-align: middle;\n",
       "    }\n",
       "\n",
       "    .dataframe tbody tr th {\n",
       "        vertical-align: top;\n",
       "    }\n",
       "\n",
       "    .dataframe thead th {\n",
       "        text-align: right;\n",
       "    }\n",
       "</style>\n",
       "<table border=\"1\" class=\"dataframe\">\n",
       "  <thead>\n",
       "    <tr style=\"text-align: right;\">\n",
       "      <th></th>\n",
       "      <th>Word</th>\n",
       "      <th>CKIP_POS</th>\n",
       "      <th>sense_cnt</th>\n",
       "    </tr>\n",
       "  </thead>\n",
       "  <tbody>\n",
       "    <tr>\n",
       "      <th>0</th>\n",
       "      <td>這時</td>\n",
       "      <td>Nd</td>\n",
       "      <td>0</td>\n",
       "    </tr>\n",
       "    <tr>\n",
       "      <th>7</th>\n",
       "      <td>\\n</td>\n",
       "      <td>WHITESPACE</td>\n",
       "      <td>0</td>\n",
       "    </tr>\n",
       "    <tr>\n",
       "      <th>8</th>\n",
       "      <td>蘇迪勒</td>\n",
       "      <td>Nb</td>\n",
       "      <td>0</td>\n",
       "    </tr>\n",
       "    <tr>\n",
       "      <th>10</th>\n",
       "      <td>狂風</td>\n",
       "      <td>Na</td>\n",
       "      <td>0</td>\n",
       "    </tr>\n",
       "    <tr>\n",
       "      <th>11</th>\n",
       "      <td>橫掃</td>\n",
       "      <td>VCL</td>\n",
       "      <td>0</td>\n",
       "    </tr>\n",
       "    <tr>\n",
       "      <th>...</th>\n",
       "      <td>...</td>\n",
       "      <td>...</td>\n",
       "      <td>...</td>\n",
       "    </tr>\n",
       "    <tr>\n",
       "      <th>83400</th>\n",
       "      <td>吟嘯</td>\n",
       "      <td>VA</td>\n",
       "      <td>0</td>\n",
       "    </tr>\n",
       "    <tr>\n",
       "      <th>83402</th>\n",
       "      <td>徐行</td>\n",
       "      <td>VA</td>\n",
       "      <td>0</td>\n",
       "    </tr>\n",
       "    <tr>\n",
       "      <th>83404</th>\n",
       "      <td>曠達</td>\n",
       "      <td>VH</td>\n",
       "      <td>0</td>\n",
       "    </tr>\n",
       "    <tr>\n",
       "      <th>83413</th>\n",
       "      <td>寶藏</td>\n",
       "      <td>Na</td>\n",
       "      <td>0</td>\n",
       "    </tr>\n",
       "    <tr>\n",
       "      <th>83424</th>\n",
       "      <td>溫情</td>\n",
       "      <td>Na</td>\n",
       "      <td>0</td>\n",
       "    </tr>\n",
       "  </tbody>\n",
       "</table>\n",
       "<p>21635 rows × 3 columns</p>\n",
       "</div>"
      ],
      "text/plain": [
       "      Word    CKIP_POS  sense_cnt\n",
       "0       這時          Nd          0\n",
       "7       \\n  WHITESPACE          0\n",
       "8      蘇迪勒          Nb          0\n",
       "10      狂風          Na          0\n",
       "11      橫掃         VCL          0\n",
       "...    ...         ...        ...\n",
       "83400   吟嘯          VA          0\n",
       "83402   徐行          VA          0\n",
       "83404   曠達          VH          0\n",
       "83413   寶藏          Na          0\n",
       "83424   溫情          Na          0\n",
       "\n",
       "[21635 rows x 3 columns]"
      ]
     },
     "execution_count": 15,
     "metadata": {},
     "output_type": "execute_result"
    }
   ],
   "source": [
    "senses_df_0 = senses_df[senses_df.sense_cnt == 0]\n",
    "senses_df_0"
   ]
  },
  {
   "cell_type": "markdown",
   "id": "assisted-vietnamese",
   "metadata": {},
   "source": [
    "### 扣除詞性為DE與Nh者單詞出現頻率（含零者）"
   ]
  },
  {
   "cell_type": "code",
   "execution_count": 18,
   "id": "sorted-empire",
   "metadata": {},
   "outputs": [
    {
     "data": {
      "text/html": [
       "<div>\n",
       "<style scoped>\n",
       "    .dataframe tbody tr th:only-of-type {\n",
       "        vertical-align: middle;\n",
       "    }\n",
       "\n",
       "    .dataframe tbody tr th {\n",
       "        vertical-align: top;\n",
       "    }\n",
       "\n",
       "    .dataframe thead th {\n",
       "        text-align: right;\n",
       "    }\n",
       "</style>\n",
       "<table border=\"1\" class=\"dataframe\">\n",
       "  <thead>\n",
       "    <tr style=\"text-align: right;\">\n",
       "      <th></th>\n",
       "      <th></th>\n",
       "      <th></th>\n",
       "      <th>0</th>\n",
       "    </tr>\n",
       "    <tr>\n",
       "      <th>Word</th>\n",
       "      <th>CKIP_POS</th>\n",
       "      <th>sense_cnt</th>\n",
       "      <th></th>\n",
       "    </tr>\n",
       "  </thead>\n",
       "  <tbody>\n",
       "    <tr>\n",
       "      <th>一</th>\n",
       "      <th>Neu</th>\n",
       "      <th>10</th>\n",
       "      <td>1458</td>\n",
       "    </tr>\n",
       "    <tr>\n",
       "      <th>是</th>\n",
       "      <th>SHI</th>\n",
       "      <th>9</th>\n",
       "      <td>1370</td>\n",
       "    </tr>\n",
       "    <tr>\n",
       "      <th>在</th>\n",
       "      <th>P</th>\n",
       "      <th>10</th>\n",
       "      <td>1232</td>\n",
       "    </tr>\n",
       "    <tr>\n",
       "      <th>了</th>\n",
       "      <th>Di</th>\n",
       "      <th>5</th>\n",
       "      <td>841</td>\n",
       "    </tr>\n",
       "    <tr>\n",
       "      <th>不</th>\n",
       "      <th>D</th>\n",
       "      <th>3</th>\n",
       "      <td>703</td>\n",
       "    </tr>\n",
       "    <tr>\n",
       "      <th>...</th>\n",
       "      <th>...</th>\n",
       "      <th>...</th>\n",
       "      <td>...</td>\n",
       "    </tr>\n",
       "    <tr>\n",
       "      <th>藉以</th>\n",
       "      <th>Cbb</th>\n",
       "      <th>1</th>\n",
       "      <td>1</td>\n",
       "    </tr>\n",
       "    <tr>\n",
       "      <th>復健</th>\n",
       "      <th>Nv</th>\n",
       "      <th>3</th>\n",
       "      <td>1</td>\n",
       "    </tr>\n",
       "    <tr>\n",
       "      <th>復興</th>\n",
       "      <th>VC</th>\n",
       "      <th>1</th>\n",
       "      <td>1</td>\n",
       "    </tr>\n",
       "    <tr>\n",
       "      <th>蔚為</th>\n",
       "      <th>VG</th>\n",
       "      <th>1</th>\n",
       "      <td>1</td>\n",
       "    </tr>\n",
       "    <tr>\n",
       "      <th>解體</th>\n",
       "      <th>VB</th>\n",
       "      <th>2</th>\n",
       "      <td>1</td>\n",
       "    </tr>\n",
       "  </tbody>\n",
       "</table>\n",
       "<p>4510 rows × 1 columns</p>\n",
       "</div>"
      ],
      "text/plain": [
       "                            0\n",
       "Word CKIP_POS sense_cnt      \n",
       "一    Neu      10         1458\n",
       "是    SHI      9          1370\n",
       "在    P        10         1232\n",
       "了    Di       5           841\n",
       "不    D        3           703\n",
       "...                       ...\n",
       "藉以   Cbb      1             1\n",
       "復健   Nv       3             1\n",
       "復興   VC       1             1\n",
       "蔚為   VG       1             1\n",
       "解體   VB       2             1\n",
       "\n",
       "[4510 rows x 1 columns]"
      ]
     },
     "execution_count": 18,
     "metadata": {},
     "output_type": "execute_result"
    }
   ],
   "source": [
    "senses_df_adj = senses_df_[senses_df_.CKIP_POS != \"DE\"]\n",
    "senses_df_adj = senses_df_adj[senses_df_adj.CKIP_POS != \"Nh\"]\n",
    "\n",
    "words_cnt_adj = pd.DataFrame(senses_df_adj.value_counts())\n",
    "words_cnt_adj"
   ]
  },
  {
   "cell_type": "code",
   "execution_count": null,
   "id": "brutal-theology",
   "metadata": {},
   "outputs": [],
   "source": []
  }
 ],
 "metadata": {
  "kernelspec": {
   "display_name": "Python 3",
   "language": "python",
   "name": "python3"
  },
  "language_info": {
   "codemirror_mode": {
    "name": "ipython",
    "version": 3
   },
   "file_extension": ".py",
   "mimetype": "text/x-python",
   "name": "python",
   "nbconvert_exporter": "python",
   "pygments_lexer": "ipython3",
   "version": "3.7.10"
  }
 },
 "nbformat": 4,
 "nbformat_minor": 5
}
