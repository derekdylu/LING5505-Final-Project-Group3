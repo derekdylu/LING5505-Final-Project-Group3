{
 "cells": [
  {
   "cell_type": "raw",
   "id": "flying-backing",
   "metadata": {},
   "source": [
    "cd Documents/NTU/2_Sophomore/2-2/R/Project/LING5505-Final-Project-Group3"
   ]
  },
  {
   "cell_type": "code",
   "execution_count": 1,
   "id": "appointed-reform",
   "metadata": {},
   "outputs": [
    {
     "name": "stdout",
     "output_type": "stream",
     "text": [
      "A copy of DistilTag model already exists. Use upgrade=True to overwrite\n",
      "A copy of cwn_grpah.pyobj already exists. Use upgrade=True to overwrite\n"
     ]
    }
   ],
   "source": [
    "import numpy as np\n",
    "import pandas as pd\n",
    "import gdown\n",
    "import os\n",
    "\n",
    "import torch\n",
    "import transformers\n",
    "\n",
    "import CwnSenseTagger\n",
    "CwnSenseTagger.download()\n",
    "\n",
    "import CwnGraph\n",
    "CwnGraph.download()\n",
    "\n",
    "from CwnGraph import CwnBase\n",
    "from ckiptagger import data_utils, construct_dictionary, WS, POS, NER\n",
    "\n",
    "#import DistilTag\n",
    "#DistilTag.download()"
   ]
  },
  {
   "cell_type": "code",
   "execution_count": 2,
   "id": "processed-comedy",
   "metadata": {},
   "outputs": [
    {
     "name": "stderr",
     "output_type": "stream",
     "text": [
      "/Users/dereklu/opt/anaconda3/lib/python3.7/site-packages/tensorflow/python/keras/layers/legacy_rnn/rnn_cell_impl.py:909: UserWarning: `tf.nn.rnn_cell.LSTMCell` is deprecated and will be removed in a future version. This class is equivalent as `tf.keras.layers.LSTMCell`, and will be replaced by that in Tensorflow 2.0.\n",
      "  warnings.warn(\"`tf.nn.rnn_cell.LSTMCell` is deprecated and will be \"\n",
      "/Users/dereklu/opt/anaconda3/lib/python3.7/site-packages/tensorflow/python/keras/engine/base_layer_v1.py:1700: UserWarning: `layer.add_variable` is deprecated and will be removed in a future version. Please use `layer.add_weight` method instead.\n",
      "  warnings.warn('`layer.add_variable` is deprecated and '\n"
     ]
    }
   ],
   "source": [
    "ws = WS(os.path.abspath(os.path.join(os.getcwd(), os.path.pardir)) + '/data')\n",
    "pos = POS(os.path.abspath(os.path.join(os.getcwd(), os.path.pardir)) + '/data')\n",
    "ner = NER(os.path.abspath(os.path.join(os.getcwd(), os.path.pardir)) + '/data')"
   ]
  },
  {
   "cell_type": "markdown",
   "id": "listed-crazy",
   "metadata": {},
   "source": [
    "### 讀取資料集"
   ]
  },
  {
   "cell_type": "code",
   "execution_count": 3,
   "id": "assured-birmingham",
   "metadata": {},
   "outputs": [
    {
     "data": {
      "text/plain": [
       "208"
      ]
     },
     "execution_count": 3,
     "metadata": {},
     "output_type": "execute_result"
    }
   ],
   "source": [
    "all_f = []\n",
    "\n",
    "for file in os.listdir(\"data_set/\"):\n",
    "    if file.endswith(\".txt\"): all_f.append(file)\n",
    "\n",
    "len(all_f)"
   ]
  },
  {
   "cell_type": "code",
   "execution_count": 4,
   "id": "empty-sunrise",
   "metadata": {},
   "outputs": [],
   "source": [
    "sentence_list = []\n",
    "\n",
    "for i in all_f:\n",
    "    f = open(\"data_set/\" + i)\n",
    "    sentence_list.append(f.read())"
   ]
  },
  {
   "cell_type": "code",
   "execution_count": 5,
   "id": "defined-abuse",
   "metadata": {},
   "outputs": [
    {
     "name": "stdout",
     "output_type": "stream",
     "text": [
      "秋天總給人一種蕭瑟之感，但我卻對秋天情有獨鍾。\n",
      "秋風颯颯，捲起了千堆落葉，也捲起了眾多遷客騷人的心。秋是詩人的季節，許多對人生的慨歎或瞭悟在這個季節找到了適當的詞語。秋風一起，詩句亦在詩人的腦中跳躍並重組著，待風歇息，一首首動人的詩句便完成了，也因此我能在這悽美的季節，吟詠著古今文人的寂寞，抑或曠達，進而尋找自己的人生方向。\n",
      "如果夏是一首絕句，我認為邱是舖採搞文的長賦。厭倦秋天的人認為它冗言而寡要，而深愛的秋天的人總能讀出壯麗的美感。秋天是個冷靜的季節，它總沉得住氣。它不急不徐，卻在我們的周遭留下一些痕跡。秋風吹著樹葉，卻不催它迅速轉紅。每日每日，秋意漸濃，樹葉也一點一點轉黃至淡紅中至深紅而落下。秋天看似孤傲，不易接近，但它默默付出心力，在季節得遞嬗扮演著轉承的角色，落下的葉是為了留下空間迎接新生命的到來，讓眾人所愛的綠再次蓊鬱。秋總不居功，它不喜歡光彩奪目的人生，但它成就著他人的輝煌。\n",
      "我期許著自己能如同秋天一般，無伐善、無施勞，貢獻一己之心，讓社會能持續轉動，不停歇。\n",
      "\n",
      "list length =  208\n"
     ]
    }
   ],
   "source": [
    "print(sentence_list[1])\n",
    "print(\"\\nlist length = \", len(sentence_list))"
   ]
  },
  {
   "cell_type": "markdown",
   "id": "returning-carbon",
   "metadata": {},
   "source": [
    "### setting ckiptagger"
   ]
  },
  {
   "cell_type": "code",
   "execution_count": 6,
   "id": "greatest-train",
   "metadata": {},
   "outputs": [],
   "source": [
    "word_sentence_list = ws(sentence_list)\n",
    "\n",
    "pos_sentence_list = pos(word_sentence_list)\n",
    "\n",
    "entity_sentence_list = ner(word_sentence_list, pos_sentence_list)"
   ]
  },
  {
   "cell_type": "markdown",
   "id": "operating-election",
   "metadata": {},
   "source": [
    "### 斷詞結果顯示函式"
   ]
  },
  {
   "cell_type": "code",
   "execution_count": 7,
   "id": "specialized-bahamas",
   "metadata": {},
   "outputs": [
    {
     "data": {
      "text/plain": [
       "'\\nfor i, sentence in enumerate(sentence_list):\\n    print(f\"\\'{sentence}\\'\")\\n    print_word_pos_sentence(word_sentence_list[i],  pos_sentence_list[i])\\n    for entity in sorted(entity_sentence_list[i]):\\n        print(entity)\\n'"
      ]
     },
     "execution_count": 7,
     "metadata": {},
     "output_type": "execute_result"
    }
   ],
   "source": [
    "def print_word_pos_sentence (word_sentence, pos_sentence):\n",
    "    assert len(word_sentence) == len(pos_sentence)\n",
    "    for word, pos in zip(word_sentence, pos_sentence):\n",
    "        print(f\"{word}({pos})\", end=\"\\u3000\")\n",
    "    print()\n",
    "    return\n",
    "\n",
    "\"\"\"\n",
    "for i, sentence in enumerate(sentence_list):\n",
    "    print(f\"'{sentence}'\")\n",
    "    print_word_pos_sentence(word_sentence_list[i],  pos_sentence_list[i])\n",
    "    for entity in sorted(entity_sentence_list[i]):\n",
    "        print(entity)\n",
    "\"\"\""
   ]
  },
  {
   "cell_type": "markdown",
   "id": "cleared-pointer",
   "metadata": {},
   "source": [
    "### 詞性頻率分析"
   ]
  },
  {
   "cell_type": "code",
   "execution_count": 8,
   "id": "informational-browse",
   "metadata": {},
   "outputs": [
    {
     "data": {
      "text/plain": [
       "0                    Nd\n",
       "1         COMMACATEGORY\n",
       "2                    Na\n",
       "3                     D\n",
       "4                    Da\n",
       "              ...      \n",
       "98561                Nh\n",
       "98562     COMMACATEGORY\n",
       "98563               Dfa\n",
       "98564                VH\n",
       "98565    PERIODCATEGORY\n",
       "Length: 98566, dtype: object"
      ]
     },
     "execution_count": 8,
     "metadata": {},
     "output_type": "execute_result"
    }
   ],
   "source": [
    "pos_sentence_arr = pd.Series(np.concatenate(pos_sentence_list))\n",
    "pos_sentence_arr"
   ]
  },
  {
   "cell_type": "code",
   "execution_count": 9,
   "id": "amber-wound",
   "metadata": {},
   "outputs": [
    {
     "data": {
      "text/html": [
       "<div>\n",
       "<style scoped>\n",
       "    .dataframe tbody tr th:only-of-type {\n",
       "        vertical-align: middle;\n",
       "    }\n",
       "\n",
       "    .dataframe tbody tr th {\n",
       "        vertical-align: top;\n",
       "    }\n",
       "\n",
       "    .dataframe thead th {\n",
       "        text-align: right;\n",
       "    }\n",
       "</style>\n",
       "<table border=\"1\" class=\"dataframe\">\n",
       "  <thead>\n",
       "    <tr style=\"text-align: right;\">\n",
       "      <th></th>\n",
       "      <th>CKIP_POS</th>\n",
       "      <th>frequency</th>\n",
       "    </tr>\n",
       "  </thead>\n",
       "  <tbody>\n",
       "    <tr>\n",
       "      <th>20</th>\n",
       "      <td>Na</td>\n",
       "      <td>14600</td>\n",
       "    </tr>\n",
       "    <tr>\n",
       "      <th>2</th>\n",
       "      <td>COMMACATEGORY</td>\n",
       "      <td>9093</td>\n",
       "    </tr>\n",
       "    <tr>\n",
       "      <th>7</th>\n",
       "      <td>D</td>\n",
       "      <td>8546</td>\n",
       "    </tr>\n",
       "    <tr>\n",
       "      <th>9</th>\n",
       "      <td>DE</td>\n",
       "      <td>7679</td>\n",
       "    </tr>\n",
       "    <tr>\n",
       "      <th>51</th>\n",
       "      <td>VH</td>\n",
       "      <td>7426</td>\n",
       "    </tr>\n",
       "  </tbody>\n",
       "</table>\n",
       "</div>"
      ],
      "text/plain": [
       "         CKIP_POS  frequency\n",
       "20             Na      14600\n",
       "2   COMMACATEGORY       9093\n",
       "7               D       8546\n",
       "9              DE       7679\n",
       "51             VH       7426"
      ]
     },
     "execution_count": 9,
     "metadata": {},
     "output_type": "execute_result"
    }
   ],
   "source": [
    "pos_df = pos_sentence_arr.value_counts().sort_index().rename_axis('CKIP_POS').reset_index(name = 'frequency')\n",
    "pos_df_sorted = pos_df.sort_values(by = ['frequency'], ascending = False)\n",
    "pos_df_sorted.head()"
   ]
  },
  {
   "cell_type": "markdown",
   "id": "judicial-facing",
   "metadata": {},
   "source": [
    "### 斷詞"
   ]
  },
  {
   "cell_type": "code",
   "execution_count": 10,
   "id": "recognized-princess",
   "metadata": {},
   "outputs": [
    {
     "data": {
      "text/plain": [
       "0        這時\n",
       "1         ，\n",
       "2         人\n",
       "3         也\n",
       "4         只\n",
       "         ..\n",
       "98561     我\n",
       "98562     ，\n",
       "98563     很\n",
       "98564    幸福\n",
       "98565     。\n",
       "Length: 98566, dtype: object"
      ]
     },
     "execution_count": 10,
     "metadata": {},
     "output_type": "execute_result"
    }
   ],
   "source": [
    "word_sentence_arr = pd.Series(np.concatenate(word_sentence_list))\n",
    "word_sentence_arr"
   ]
  },
  {
   "cell_type": "markdown",
   "id": "cubic-dairy",
   "metadata": {},
   "source": [
    "### 單詞辭意計算函式"
   ]
  },
  {
   "cell_type": "code",
   "execution_count": 11,
   "id": "built-hartford",
   "metadata": {},
   "outputs": [],
   "source": [
    "cwn = CwnBase()\n",
    "    \n",
    "def all_sense_tree (word, verbal = False):\n",
    "    cnt = 0\n",
    "    for i in range(len(word)):\n",
    "        snese_tree = word[i].senses\n",
    "        cnt += len(word[i].senses)\n",
    "        if(verbal == True): print(snese_tree)\n",
    "    \n",
    "    if(verbal == True): print(\"total senses = \", cnt)\n",
    "    return cnt"
   ]
  },
  {
   "cell_type": "code",
   "execution_count": 74,
   "id": "progressive-bruce",
   "metadata": {},
   "outputs": [
    {
     "name": "stdout",
     "output_type": "stream",
     "text": [
      "word:  長\n",
      "[<CwnSense[05229401](長): 新的植物個體產生並生長。>, <CwnSense[05229402](長): 生物體生出後述有機組織。>, <CwnSense[05229403](長): 前述對象造成了有利於後述對象生長或活動的環境。>, <CwnSense[05229409](長): 生物體由小到大發育。>, <CwnSense[05229405](長): 外貌看起來。>, <CwnSense[05229406](長): 增加後述特性。>, <CwnSense[05229408](長): 特定組織中的領導人。>, <CwnSense[05229404](長): 物體表面出現會影響其外觀或價值的特定對象，通常是斑點或鐵鏽。>, <CwnSense[05229407](長): 比喻事件發展狀態變好。>]\n",
      "[<CwnSense[06030801](長): 形容同一物體兩端點之間的長度大。>, <CwnSense[06030802](長): 形容兩端點之間的路徑距離大。>, <CwnSense[06030803](長): 形容事件持續的時間間隔大。>, <CwnSense[06030804](長): 形容文本從開始到結束的字數多或篇幅大。>, <CwnSense[06030805](長): 形容買賣時間差距大。>, <CwnSense[06030806](長): 前述長度增加的長度等同後述長度。>, <CwnSense[06030807](長): 前述時間增加的時間等同後述時間。>, <CwnSense[06030808](長): 文本從開始到結束的篇幅是後述對象。>, <CwnSense[06030809](長): 物體的長度。>, <CwnSense[06030810](長): 時間的長度。>, <CwnSense[06030811](長): 表後述事件一直持續。>, <CwnSense[06030812](長): 專精於後述技術或領域。>, <CwnSense[06030813](長): 專精的技術或領域。>, <CwnSense[06030814](長): 形容評論前述對象的是非。>, <CwnSense[06030815](長): 形容一直在討論後述對象。>, <CwnSense[06030816](長): 形容母音持續的時間間隔大。>]\n",
      "[<CwnSense[06030901](長): 姓。>]\n",
      "[<CwnSense[06031001](長): 形容年紀大的。>, <CwnSense[06031002](長): 比後述對象大的輩份是後述輩份。>]\n",
      "total senses =  28\n"
     ]
    },
    {
     "data": {
      "text/plain": [
       "28"
      ]
     },
     "execution_count": 74,
     "metadata": {},
     "output_type": "execute_result"
    }
   ],
   "source": [
    "# test\n",
    "\n",
    "_word = word_sentence_arr[108]\n",
    "word = cwn.find_lemma(\"^\" + _word + \"$\")\n",
    "print(\"word: \", _word)\n",
    "all_sense_tree(word, verbal = True)"
   ]
  },
  {
   "cell_type": "markdown",
   "id": "dangerous-kazakhstan",
   "metadata": {},
   "source": [
    "### 所有單詞詞性與辭意計算（辭意非零者）"
   ]
  },
  {
   "cell_type": "code",
   "execution_count": 13,
   "id": "spoken-class",
   "metadata": {},
   "outputs": [
    {
     "data": {
      "text/html": [
       "<div>\n",
       "<style scoped>\n",
       "    .dataframe tbody tr th:only-of-type {\n",
       "        vertical-align: middle;\n",
       "    }\n",
       "\n",
       "    .dataframe tbody tr th {\n",
       "        vertical-align: top;\n",
       "    }\n",
       "\n",
       "    .dataframe thead th {\n",
       "        text-align: right;\n",
       "    }\n",
       "</style>\n",
       "<table border=\"1\" class=\"dataframe\">\n",
       "  <thead>\n",
       "    <tr style=\"text-align: right;\">\n",
       "      <th></th>\n",
       "      <th>Word</th>\n",
       "      <th>CKIP_POS</th>\n",
       "      <th>sense_cnt</th>\n",
       "    </tr>\n",
       "  </thead>\n",
       "  <tbody>\n",
       "    <tr>\n",
       "      <th>1</th>\n",
       "      <td>人</td>\n",
       "      <td>Na</td>\n",
       "      <td>11</td>\n",
       "    </tr>\n",
       "    <tr>\n",
       "      <th>2</th>\n",
       "      <td>也</td>\n",
       "      <td>D</td>\n",
       "      <td>15</td>\n",
       "    </tr>\n",
       "    <tr>\n",
       "      <th>3</th>\n",
       "      <td>只</td>\n",
       "      <td>Da</td>\n",
       "      <td>8</td>\n",
       "    </tr>\n",
       "    <tr>\n",
       "      <th>4</th>\n",
       "      <td>能</td>\n",
       "      <td>D</td>\n",
       "      <td>5</td>\n",
       "    </tr>\n",
       "    <tr>\n",
       "      <th>5</th>\n",
       "      <td>笑</td>\n",
       "      <td>VA</td>\n",
       "      <td>2</td>\n",
       "    </tr>\n",
       "    <tr>\n",
       "      <th>...</th>\n",
       "      <td>...</td>\n",
       "      <td>...</td>\n",
       "      <td>...</td>\n",
       "    </tr>\n",
       "    <tr>\n",
       "      <th>83429</th>\n",
       "      <td>人間</td>\n",
       "      <td>Nc</td>\n",
       "      <td>1</td>\n",
       "    </tr>\n",
       "    <tr>\n",
       "      <th>83430</th>\n",
       "      <td>愉快</td>\n",
       "      <td>VH</td>\n",
       "      <td>1</td>\n",
       "    </tr>\n",
       "    <tr>\n",
       "      <th>83431</th>\n",
       "      <td>我</td>\n",
       "      <td>Nh</td>\n",
       "      <td>3</td>\n",
       "    </tr>\n",
       "    <tr>\n",
       "      <th>83432</th>\n",
       "      <td>很</td>\n",
       "      <td>Dfa</td>\n",
       "      <td>1</td>\n",
       "    </tr>\n",
       "    <tr>\n",
       "      <th>83433</th>\n",
       "      <td>幸福</td>\n",
       "      <td>VH</td>\n",
       "      <td>1</td>\n",
       "    </tr>\n",
       "  </tbody>\n",
       "</table>\n",
       "<p>61799 rows × 3 columns</p>\n",
       "</div>"
      ],
      "text/plain": [
       "      Word CKIP_POS  sense_cnt\n",
       "1        人       Na         11\n",
       "2        也        D         15\n",
       "3        只       Da          8\n",
       "4        能        D          5\n",
       "5        笑       VA          2\n",
       "...    ...      ...        ...\n",
       "83429   人間       Nc          1\n",
       "83430   愉快       VH          1\n",
       "83431    我       Nh          3\n",
       "83432    很      Dfa          1\n",
       "83433   幸福       VH          1\n",
       "\n",
       "[61799 rows x 3 columns]"
      ]
     },
     "execution_count": 13,
     "metadata": {},
     "output_type": "execute_result"
    }
   ],
   "source": [
    "pun_set = {\"COLONCATEGORY\", \"COMMACATEGORY\", \"DASHCATEGORY\", \"ETCCATEGORY\", \"EXCLAMATIONCATEGORY\", \"PARENTHESISCATEGORY\",\n",
    "          \"PAUSECATEGORY\", \"PERIODCATEGORY\", \"QUESTIONCATEGORY\", \"SEMICOLONCATEGORY\", \"SPCHANGECATEGORY\"}\n",
    "\n",
    "senses_list = list()\n",
    "\n",
    "for i in range(len(word_sentence_arr)):\n",
    "    if(pos_sentence_arr[i] not in pun_set):\n",
    "        _word = word_sentence_arr[i]\n",
    "        word = cwn.find_lemma(\"^\" + _word + \"$\")\n",
    "        sense_cnt = all_sense_tree(word)\n",
    "        senses_list.append((word_sentence_arr[i], pos_sentence_arr[i], sense_cnt))\n",
    "        \n",
    "senses_df = pd.DataFrame(senses_list, columns = ['Word', 'CKIP_POS', 'sense_cnt'])\n",
    "senses_df_ = senses_df[senses_df.sense_cnt != 0]\n",
    "senses_df_"
   ]
  },
  {
   "cell_type": "code",
   "execution_count": 62,
   "id": "becoming-twins",
   "metadata": {},
   "outputs": [
    {
     "name": "stdout",
     "output_type": "stream",
     "text": [
      "辭意總計:\n"
     ]
    },
    {
     "data": {
      "text/plain": [
       "493482"
      ]
     },
     "execution_count": 62,
     "metadata": {},
     "output_type": "execute_result"
    }
   ],
   "source": [
    "print(\"辭意總計:\")\n",
    "senses_df_.sense_cnt.sum()"
   ]
  },
  {
   "cell_type": "markdown",
   "id": "shared-mattress",
   "metadata": {},
   "source": [
    "### 平均辭意"
   ]
  },
  {
   "cell_type": "code",
   "execution_count": 53,
   "id": "academic-referral",
   "metadata": {},
   "outputs": [
    {
     "name": "stdout",
     "output_type": "stream",
     "text": [
      "所有單詞平均辭意:\n",
      "5.914639115947935\n",
      "\n",
      "辭意非零單詞平均辭意:\n",
      "7.985274842634994\n"
     ]
    }
   ],
   "source": [
    "# count average senses\n",
    "print(\"所有單詞平均辭意:\")\n",
    "print(senses_df['sense_cnt'].mean())\n",
    "print(\"\\n辭意非零單詞平均辭意:\")\n",
    "print(senses_df_['sense_cnt'].mean())"
   ]
  },
  {
   "cell_type": "markdown",
   "id": "skilled-uruguay",
   "metadata": {},
   "source": [
    "### 辭意為零者"
   ]
  },
  {
   "cell_type": "code",
   "execution_count": 60,
   "id": "continental-broadcasting",
   "metadata": {},
   "outputs": [
    {
     "data": {
      "text/html": [
       "<div>\n",
       "<style scoped>\n",
       "    .dataframe tbody tr th:only-of-type {\n",
       "        vertical-align: middle;\n",
       "    }\n",
       "\n",
       "    .dataframe tbody tr th {\n",
       "        vertical-align: top;\n",
       "    }\n",
       "\n",
       "    .dataframe thead th {\n",
       "        text-align: right;\n",
       "    }\n",
       "</style>\n",
       "<table border=\"1\" class=\"dataframe\">\n",
       "  <thead>\n",
       "    <tr style=\"text-align: right;\">\n",
       "      <th></th>\n",
       "      <th>Word</th>\n",
       "      <th>CKIP_POS</th>\n",
       "      <th>sense_cnt</th>\n",
       "    </tr>\n",
       "  </thead>\n",
       "  <tbody>\n",
       "    <tr>\n",
       "      <th>0</th>\n",
       "      <td>這時</td>\n",
       "      <td>Nd</td>\n",
       "      <td>0</td>\n",
       "    </tr>\n",
       "    <tr>\n",
       "      <th>8</th>\n",
       "      <td>蘇迪勒</td>\n",
       "      <td>Nb</td>\n",
       "      <td>0</td>\n",
       "    </tr>\n",
       "    <tr>\n",
       "      <th>10</th>\n",
       "      <td>狂風</td>\n",
       "      <td>Na</td>\n",
       "      <td>0</td>\n",
       "    </tr>\n",
       "    <tr>\n",
       "      <th>11</th>\n",
       "      <td>橫掃</td>\n",
       "      <td>VCL</td>\n",
       "      <td>0</td>\n",
       "    </tr>\n",
       "    <tr>\n",
       "      <th>24</th>\n",
       "      <td>郵筒</td>\n",
       "      <td>Na</td>\n",
       "      <td>0</td>\n",
       "    </tr>\n",
       "    <tr>\n",
       "      <th>...</th>\n",
       "      <td>...</td>\n",
       "      <td>...</td>\n",
       "      <td>...</td>\n",
       "    </tr>\n",
       "    <tr>\n",
       "      <th>83400</th>\n",
       "      <td>吟嘯</td>\n",
       "      <td>VA</td>\n",
       "      <td>0</td>\n",
       "    </tr>\n",
       "    <tr>\n",
       "      <th>83402</th>\n",
       "      <td>徐行</td>\n",
       "      <td>VA</td>\n",
       "      <td>0</td>\n",
       "    </tr>\n",
       "    <tr>\n",
       "      <th>83404</th>\n",
       "      <td>曠達</td>\n",
       "      <td>VH</td>\n",
       "      <td>0</td>\n",
       "    </tr>\n",
       "    <tr>\n",
       "      <th>83413</th>\n",
       "      <td>寶藏</td>\n",
       "      <td>Na</td>\n",
       "      <td>0</td>\n",
       "    </tr>\n",
       "    <tr>\n",
       "      <th>83424</th>\n",
       "      <td>溫情</td>\n",
       "      <td>Na</td>\n",
       "      <td>0</td>\n",
       "    </tr>\n",
       "  </tbody>\n",
       "</table>\n",
       "<p>20997 rows × 3 columns</p>\n",
       "</div>"
      ],
      "text/plain": [
       "      Word CKIP_POS  sense_cnt\n",
       "0       這時       Nd          0\n",
       "8      蘇迪勒       Nb          0\n",
       "10      狂風       Na          0\n",
       "11      橫掃      VCL          0\n",
       "24      郵筒       Na          0\n",
       "...    ...      ...        ...\n",
       "83400   吟嘯       VA          0\n",
       "83402   徐行       VA          0\n",
       "83404   曠達       VH          0\n",
       "83413   寶藏       Na          0\n",
       "83424   溫情       Na          0\n",
       "\n",
       "[20997 rows x 3 columns]"
      ]
     },
     "execution_count": 60,
     "metadata": {},
     "output_type": "execute_result"
    }
   ],
   "source": [
    "senses_df_0 = senses_df[senses_df.sense_cnt == 0]\n",
    "senses_df_0 = senses_df_0[senses_df_0.CKIP_POS != 'WHITESPACE'] # filter \\n\n",
    "senses_df_0\n",
    "### 不太行...很多常見字辭意為零"
   ]
  },
  {
   "cell_type": "code",
   "execution_count": 55,
   "id": "designed-computer",
   "metadata": {},
   "outputs": [
    {
     "name": "stdout",
     "output_type": "stream",
     "text": [
      "整體而言辭意為零之單佔所有單詞比例:\n",
      "0.3397627793329989\n"
     ]
    }
   ],
   "source": [
    "sense0_por = senses_df_0.shape[0]/senses_df_.shape[0]\n",
    "print(\"整體而言辭意為零之單詞佔所有單詞的比例:\")\n",
    "print(sense0_por)"
   ]
  },
  {
   "cell_type": "markdown",
   "id": "three-beads",
   "metadata": {},
   "source": [
    "### 特定詞性單詞出現頻率（含辭意為零者）"
   ]
  },
  {
   "cell_type": "code",
   "execution_count": 41,
   "id": "otherwise-serve",
   "metadata": {},
   "outputs": [
    {
     "name": "stdout",
     "output_type": "stream",
     "text": [
      "Head of frequency of all words\n"
     ]
    },
    {
     "data": {
      "text/html": [
       "<div>\n",
       "<style scoped>\n",
       "    .dataframe tbody tr th:only-of-type {\n",
       "        vertical-align: middle;\n",
       "    }\n",
       "\n",
       "    .dataframe tbody tr th {\n",
       "        vertical-align: top;\n",
       "    }\n",
       "\n",
       "    .dataframe thead th {\n",
       "        text-align: right;\n",
       "    }\n",
       "</style>\n",
       "<table border=\"1\" class=\"dataframe\">\n",
       "  <thead>\n",
       "    <tr style=\"text-align: right;\">\n",
       "      <th></th>\n",
       "      <th></th>\n",
       "      <th></th>\n",
       "      <th>0</th>\n",
       "    </tr>\n",
       "    <tr>\n",
       "      <th>Word</th>\n",
       "      <th>CKIP_POS</th>\n",
       "      <th>sense_cnt</th>\n",
       "      <th></th>\n",
       "    </tr>\n",
       "  </thead>\n",
       "  <tbody>\n",
       "    <tr>\n",
       "      <th>的</th>\n",
       "      <th>DE</th>\n",
       "      <th>16</th>\n",
       "      <td>7049</td>\n",
       "    </tr>\n",
       "    <tr>\n",
       "      <th>我</th>\n",
       "      <th>Nh</th>\n",
       "      <th>3</th>\n",
       "      <td>2697</td>\n",
       "    </tr>\n",
       "    <tr>\n",
       "      <th>一</th>\n",
       "      <th>Neu</th>\n",
       "      <th>10</th>\n",
       "      <td>1458</td>\n",
       "    </tr>\n",
       "    <tr>\n",
       "      <th>是</th>\n",
       "      <th>SHI</th>\n",
       "      <th>9</th>\n",
       "      <td>1370</td>\n",
       "    </tr>\n",
       "    <tr>\n",
       "      <th>在</th>\n",
       "      <th>P</th>\n",
       "      <th>10</th>\n",
       "      <td>1232</td>\n",
       "    </tr>\n",
       "    <tr>\n",
       "      <th>了</th>\n",
       "      <th>Di</th>\n",
       "      <th>5</th>\n",
       "      <td>841</td>\n",
       "    </tr>\n",
       "    <tr>\n",
       "      <th>不</th>\n",
       "      <th>D</th>\n",
       "      <th>3</th>\n",
       "      <td>703</td>\n",
       "    </tr>\n",
       "    <tr>\n",
       "      <th>著</th>\n",
       "      <th>Di</th>\n",
       "      <th>8</th>\n",
       "      <td>651</td>\n",
       "    </tr>\n",
       "    <tr>\n",
       "      <th>自己</th>\n",
       "      <th>Nh</th>\n",
       "      <th>5</th>\n",
       "      <td>606</td>\n",
       "    </tr>\n",
       "    <tr>\n",
       "      <th>有</th>\n",
       "      <th>V_2</th>\n",
       "      <th>8</th>\n",
       "      <td>569</td>\n",
       "    </tr>\n",
       "  </tbody>\n",
       "</table>\n",
       "</div>"
      ],
      "text/plain": [
       "                            0\n",
       "Word CKIP_POS sense_cnt      \n",
       "的    DE       16         7049\n",
       "我    Nh       3          2697\n",
       "一    Neu      10         1458\n",
       "是    SHI      9          1370\n",
       "在    P        10         1232\n",
       "了    Di       5           841\n",
       "不    D        3           703\n",
       "著    Di       8           651\n",
       "自己   Nh       5           606\n",
       "有    V_2      8           569"
      ]
     },
     "metadata": {},
     "output_type": "display_data"
    },
    {
     "name": "stdout",
     "output_type": "stream",
     "text": [
      "\n",
      "\n",
      "Head of frequency of Na(普通名詞) words\n"
     ]
    },
    {
     "data": {
      "text/html": [
       "<div>\n",
       "<style scoped>\n",
       "    .dataframe tbody tr th:only-of-type {\n",
       "        vertical-align: middle;\n",
       "    }\n",
       "\n",
       "    .dataframe tbody tr th {\n",
       "        vertical-align: top;\n",
       "    }\n",
       "\n",
       "    .dataframe thead th {\n",
       "        text-align: right;\n",
       "    }\n",
       "</style>\n",
       "<table border=\"1\" class=\"dataframe\">\n",
       "  <thead>\n",
       "    <tr style=\"text-align: right;\">\n",
       "      <th></th>\n",
       "      <th></th>\n",
       "      <th></th>\n",
       "      <th>0</th>\n",
       "    </tr>\n",
       "    <tr>\n",
       "      <th>Word</th>\n",
       "      <th>CKIP_POS</th>\n",
       "      <th>sense_cnt</th>\n",
       "      <th></th>\n",
       "    </tr>\n",
       "  </thead>\n",
       "  <tbody>\n",
       "    <tr>\n",
       "      <th>人</th>\n",
       "      <th>Na</th>\n",
       "      <th>11</th>\n",
       "      <td>486</td>\n",
       "    </tr>\n",
       "    <tr>\n",
       "      <th>心</th>\n",
       "      <th>Na</th>\n",
       "      <th>13</th>\n",
       "      <td>250</td>\n",
       "    </tr>\n",
       "    <tr>\n",
       "      <th>生命</th>\n",
       "      <th>Na</th>\n",
       "      <th>8</th>\n",
       "      <td>234</td>\n",
       "    </tr>\n",
       "    <tr>\n",
       "      <th>人生</th>\n",
       "      <th>Na</th>\n",
       "      <th>1</th>\n",
       "      <td>206</td>\n",
       "    </tr>\n",
       "    <tr>\n",
       "      <th>學生</th>\n",
       "      <th>Na</th>\n",
       "      <th>2</th>\n",
       "      <td>86</td>\n",
       "    </tr>\n",
       "  </tbody>\n",
       "</table>\n",
       "</div>"
      ],
      "text/plain": [
       "                           0\n",
       "Word CKIP_POS sense_cnt     \n",
       "人    Na       11         486\n",
       "心    Na       13         250\n",
       "生命   Na       8          234\n",
       "人生   Na       1          206\n",
       "學生   Na       2           86"
      ]
     },
     "metadata": {},
     "output_type": "display_data"
    },
    {
     "name": "stdout",
     "output_type": "stream",
     "text": [
      "\n",
      "\n",
      "Head of frequency of VA(動作不及物動詞) words\n"
     ]
    },
    {
     "data": {
      "text/html": [
       "<div>\n",
       "<style scoped>\n",
       "    .dataframe tbody tr th:only-of-type {\n",
       "        vertical-align: middle;\n",
       "    }\n",
       "\n",
       "    .dataframe tbody tr th {\n",
       "        vertical-align: top;\n",
       "    }\n",
       "\n",
       "    .dataframe thead th {\n",
       "        text-align: right;\n",
       "    }\n",
       "</style>\n",
       "<table border=\"1\" class=\"dataframe\">\n",
       "  <thead>\n",
       "    <tr style=\"text-align: right;\">\n",
       "      <th></th>\n",
       "      <th></th>\n",
       "      <th></th>\n",
       "      <th>0</th>\n",
       "    </tr>\n",
       "    <tr>\n",
       "      <th>Word</th>\n",
       "      <th>CKIP_POS</th>\n",
       "      <th>sense_cnt</th>\n",
       "      <th></th>\n",
       "    </tr>\n",
       "  </thead>\n",
       "  <tbody>\n",
       "    <tr>\n",
       "      <th>來</th>\n",
       "      <th>VA</th>\n",
       "      <th>19</th>\n",
       "      <td>44</td>\n",
       "    </tr>\n",
       "    <tr>\n",
       "      <th>存在</th>\n",
       "      <th>VA</th>\n",
       "      <th>3</th>\n",
       "      <td>35</td>\n",
       "    </tr>\n",
       "    <tr>\n",
       "      <th>笑</th>\n",
       "      <th>VA</th>\n",
       "      <th>2</th>\n",
       "      <td>30</td>\n",
       "    </tr>\n",
       "    <tr>\n",
       "      <th>站</th>\n",
       "      <th>VA</th>\n",
       "      <th>7</th>\n",
       "      <td>23</td>\n",
       "    </tr>\n",
       "    <tr>\n",
       "      <th>走</th>\n",
       "      <th>VA</th>\n",
       "      <th>20</th>\n",
       "      <td>21</td>\n",
       "    </tr>\n",
       "  </tbody>\n",
       "</table>\n",
       "</div>"
      ],
      "text/plain": [
       "                          0\n",
       "Word CKIP_POS sense_cnt    \n",
       "來    VA       19         44\n",
       "存在   VA       3          35\n",
       "笑    VA       2          30\n",
       "站    VA       7          23\n",
       "走    VA       20         21"
      ]
     },
     "metadata": {},
     "output_type": "display_data"
    },
    {
     "name": "stdout",
     "output_type": "stream",
     "text": [
      "\n",
      "\n",
      "Head of frequency of Nb(專有名稱) words\n"
     ]
    },
    {
     "data": {
      "text/html": [
       "<div>\n",
       "<style scoped>\n",
       "    .dataframe tbody tr th:only-of-type {\n",
       "        vertical-align: middle;\n",
       "    }\n",
       "\n",
       "    .dataframe tbody tr th {\n",
       "        vertical-align: top;\n",
       "    }\n",
       "\n",
       "    .dataframe thead th {\n",
       "        text-align: right;\n",
       "    }\n",
       "</style>\n",
       "<table border=\"1\" class=\"dataframe\">\n",
       "  <thead>\n",
       "    <tr style=\"text-align: right;\">\n",
       "      <th></th>\n",
       "      <th></th>\n",
       "      <th></th>\n",
       "      <th>0</th>\n",
       "    </tr>\n",
       "    <tr>\n",
       "      <th>Word</th>\n",
       "      <th>CKIP_POS</th>\n",
       "      <th>sense_cnt</th>\n",
       "      <th></th>\n",
       "    </tr>\n",
       "  </thead>\n",
       "  <tbody>\n",
       "    <tr>\n",
       "      <th>孔子</th>\n",
       "      <th>Nb</th>\n",
       "      <th>3</th>\n",
       "      <td>13</td>\n",
       "    </tr>\n",
       "    <tr>\n",
       "      <th>李白</th>\n",
       "      <th>Nb</th>\n",
       "      <th>2</th>\n",
       "      <td>11</td>\n",
       "    </tr>\n",
       "    <tr>\n",
       "      <th>老子</th>\n",
       "      <th>Nb</th>\n",
       "      <th>5</th>\n",
       "      <td>6</td>\n",
       "    </tr>\n",
       "    <tr>\n",
       "      <th>史記</th>\n",
       "      <th>Nb</th>\n",
       "      <th>1</th>\n",
       "      <td>6</td>\n",
       "    </tr>\n",
       "    <tr>\n",
       "      <th>莊子</th>\n",
       "      <th>Nb</th>\n",
       "      <th>4</th>\n",
       "      <td>5</td>\n",
       "    </tr>\n",
       "  </tbody>\n",
       "</table>\n",
       "</div>"
      ],
      "text/plain": [
       "                          0\n",
       "Word CKIP_POS sense_cnt    \n",
       "孔子   Nb       3          13\n",
       "李白   Nb       2          11\n",
       "老子   Nb       5           6\n",
       "史記   Nb       1           6\n",
       "莊子   Nb       4           5"
      ]
     },
     "metadata": {},
     "output_type": "display_data"
    }
   ],
   "source": [
    "words_cnt_ = pd.DataFrame(senses_df_.value_counts())\n",
    "print(\"Head of frequency of all words\")\n",
    "display(words_cnt_.head(10))\n",
    "\n",
    "words_cnt_Na = senses_df_[senses_df_.CKIP_POS == 'Na']\n",
    "words_cnt_Na = pd.DataFrame(words_cnt_Na.value_counts())\n",
    "print(\"\\n\\nHead of frequency of Na(普通名詞) words\")\n",
    "display(words_cnt_Na.head())\n",
    "\n",
    "words_cnt_VA = senses_df_[senses_df_.CKIP_POS == 'VA']\n",
    "words_cnt_VA = pd.DataFrame(words_cnt_VA.value_counts())\n",
    "print(\"\\n\\nHead of frequency of VA(動作不及物動詞) words\")\n",
    "display(words_cnt_VA.head())\n",
    "\n",
    "words_cnt_Nb = senses_df_[senses_df_.CKIP_POS == 'Nb']\n",
    "words_cnt_Nb = pd.DataFrame(words_cnt_Nb.value_counts())\n",
    "print(\"\\n\\nHead of frequency of Nb(專有名稱) words\")\n",
    "display(words_cnt_Nb.head())"
   ]
  },
  {
   "cell_type": "code",
   "execution_count": null,
   "id": "featured-transcript",
   "metadata": {},
   "outputs": [],
   "source": []
  }
 ],
 "metadata": {
  "kernelspec": {
   "display_name": "Python 3",
   "language": "python",
   "name": "python3"
  },
  "language_info": {
   "codemirror_mode": {
    "name": "ipython",
    "version": 3
   },
   "file_extension": ".py",
   "mimetype": "text/x-python",
   "name": "python",
   "nbconvert_exporter": "python",
   "pygments_lexer": "ipython3",
   "version": "3.7.10"
  }
 },
 "nbformat": 4,
 "nbformat_minor": 5
}
